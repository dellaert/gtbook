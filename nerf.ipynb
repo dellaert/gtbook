{
 "cells": [
  {
   "cell_type": "raw",
   "metadata": {},
   "source": [
    "---\n",
    "output-file: nerf.html\n",
    "description: Support Code for Neural Radiance Fields\n",
    "title: nerf\n",
    "---"
   ]
  },
  {
   "cell_type": "code",
   "execution_count": null,
   "metadata": {},
   "outputs": [],
   "source": [
    "#| default_exp nerf"
   ]
  },
  {
   "cell_type": "code",
   "execution_count": null,
   "metadata": {},
   "outputs": [],
   "source": [
    "#| include: false\n",
    "from fastcore.all import *"
   ]
  },
  {
   "cell_type": "code",
   "execution_count": null,
   "metadata": {},
   "outputs": [],
   "source": [
    "#| exporti\n",
    "from dataclasses import dataclass\n",
    "import json\n",
    "import numpy as np\n",
    "import torch.nn.functional as F\n",
    "\n",
    "import PIL\n",
    "import pandas as pd\n",
    "import matplotlib.pyplot as plt\n",
    "import plotly.graph_objects as go\n",
    "import plotly.express as px\n",
    "\n",
    "import torch\n",
    "import torch.nn as nn\n",
    "import torch.optim as optim\n",
    "from torch.utils.data import DataLoader, TensorDataset"
   ]
  },
  {
   "cell_type": "code",
   "execution_count": null,
   "metadata": {},
   "outputs": [],
   "source": [
    "# | exporti\n",
    "WHITE = torch.full((3,), 1.0, dtype=torch.float)\n",
    "BLACK = torch.full((3,), 0.0, dtype=torch.float)\n",
    "DEVICE = (\n",
    "    torch.device(\"cuda\") if torch.cuda.is_available()\n",
    "    else torch.device(\"mps\") if torch.backends.mps.is_available()\n",
    "    else torch.device(\"cpu\")\n",
    ")\n",
    "print(f\"Using device: {DEVICE}\")"
   ]
  },
  {
   "cell_type": "markdown",
   "metadata": {},
   "source": [
    "# Neural Radiance Fields\n",
    "\n",
    "Most of the code is defined in the book as well, but here we more thoroughly test it.\n"
   ]
  },
  {
   "cell_type": "markdown",
   "metadata": {},
   "source": [
    "### Sampling from Rays\n",
    "\n",
    "Given a point $P$ on the ray at a distance $t$ from the origin $O$, in the direction $D$ is given as\n",
    "\n",
    "$$\n",
    "P(t,O,D) = O + t  D\n",
    "$$"
   ]
  },
  {
   "cell_type": "code",
   "execution_count": null,
   "metadata": {},
   "outputs": [],
   "source": [
    "def sample_along_ray(t_values, origins, directions):\n",
    "    \"\"\"Sample points along rays defined by origins and (unit-norm) directions.\"\"\"\n",
    "    return origins[..., None, :] + t_values[:, None] * directions[..., None, :]"
   ]
  },
  {
   "cell_type": "markdown",
   "metadata": {},
   "source": [
    "Notice that the way we implemented `sample_along_ray` takes care to handle *arbitrary* batches of origin/direction pairs, as long as their last dimensions is 3:"
   ]
  },
  {
   "cell_type": "code",
   "execution_count": null,
   "metadata": {},
   "outputs": [],
   "source": [
    "t_values = torch.tensor([1, 2, 3, 4, 5])\n",
    "origins = torch.tensor([[0.0, 0.0, 0.0], [0.0, 0.0, 0.0]])\n",
    "directions = torch.tensor([[1.0, 0.0, 0.0], [1.0/ np.sqrt(2), 1.0/ np.sqrt(2), 0.0]])\n",
    "\n",
    "samples = sample_along_ray(t_values, origins, directions)\n",
    "\n",
    "test_eq(samples.shape, torch.Size([2, 5, 3]))"
   ]
  },
  {
   "cell_type": "markdown",
   "metadata": {},
   "source": [
    "The last line above asserts that we sampled 2 rays for 5 different $t$-values, each of them being 3-dimensional points as expected."
   ]
  },
  {
   "cell_type": "markdown",
   "metadata": {},
   "source": [
    "### Integration along Rays\n",
    "\n",
    "Assuming that we are given the densities $\\sigma_i$ and colors $c_i$ at $N$ sampled points $P_i$ on a ray corresponding to a given pixel, then we can calculate the color for the ray using the equation below,\n",
    "\n",
    "$$\n",
    "C = \\sum_{i=1}^N T_i \\alpha_i c_i\n",
    "$$\n",
    "\n",
    "where $T_i$ is the **transmittance**:\n",
    "\n",
    "$$\n",
    "T_i \\doteq \\exp ( - \\sum_{j=1}^{i-1} \\sigma_j)\n",
    "$$\n",
    "\n",
    "The transmittance $T_i$ measures the *lack* of occlusion in the space between the $i^th$ sample and the ray origin. The quantity $\\alpha_i$, on the other hand, is the alpha value or **opacity** at the $i^th$ sample, defined as\n",
    "\n",
    "$$\n",
    "\\alpha_i \\doteq 1 - \\exp(-\\sigma_i).\n",
    "$$"
   ]
  },
  {
   "cell_type": "code",
   "execution_count": null,
   "metadata": {},
   "outputs": [],
   "source": [
    "def render_along_ray(density, rgb, background=WHITE):\n",
    "    \"\"\"Compute the final rendered color given the density and RGB values.\"\"\"\n",
    "    alpha = 1 - torch.exp(-density)\n",
    "    cumulative_density = torch.cumsum(density, dim=-1)\n",
    "    trans = torch.exp(-cumulative_density)\n",
    "    trans = torch.cat([torch.ones_like(density[..., :1]), trans[..., :-1]], dim=-1)\n",
    "    \n",
    "    weights = alpha * trans\n",
    "    color_acc = torch.einsum('...i,...ij->...j', weights, rgb)\n",
    "    acc = weights.sum(dim=-1, keepdim=True)\n",
    "\n",
    "    return color_acc + (1.0 - acc) * background"
   ]
  },
  {
   "cell_type": "markdown",
   "metadata": {},
   "source": [
    "Test using randomly generated `density` and `rgb` inputs that have the same shape as our sampled rays from above, asserting that we indeed get *two* RGB colors as the end-result:"
   ]
  },
  {
   "cell_type": "code",
   "execution_count": null,
   "metadata": {},
   "outputs": [],
   "source": [
    "density = torch.rand(2, 5) # Random density\n",
    "rgb = torch.rand(2, 5, 3) # Random colors (between 0 and 1)\n",
    "rendered = render_along_ray(density, rgb)\n",
    "test_eq( rendered.shape, torch.Size([2, 3]))\n",
    "print(rendered.detach().numpy())"
   ]
  },
  {
   "cell_type": "markdown",
   "metadata": {},
   "source": [
    "## A Differentiable Voxel Grid"
   ]
  },
  {
   "cell_type": "code",
   "execution_count": null,
   "metadata": {},
   "outputs": [],
   "source": [
    "def bracket(x, n):\n",
    "    \"\"\"Return the indices of the nearest grid points to x, as well as weights.\"\"\"\n",
    "    x0 = torch.floor(x).long()\n",
    "    X0 = torch.clamp(x0, min=0, max=(n - 1))\n",
    "    X1 = torch.clamp(x0 + 1, min=0, max=(n - 1))\n",
    "    return X0, X1, torch.clamp(x - x0.float(), min=0.0, max=1.0)"
   ]
  },
  {
   "cell_type": "code",
   "execution_count": null,
   "metadata": {},
   "outputs": [],
   "source": [
    "def interpolate(v0, v1, alpha):\n",
    "    \"\"\"Interpolate between v0 and v1 using alpha, using unsqueeze to properly handle batches.\"\"\"\n",
    "    return v0 * (1 - alpha.unsqueeze(-1)) + v1 * alpha.unsqueeze(-1)\n",
    "\n",
    "class VoxelGrid(nn.Module):\n",
    "    def __init__(self, shape, d=1, max=1.0):\n",
    "        \"\"\"A 3D voxel grid with given `shape` with learnable values at the middle of the voxels.\"\"\"\n",
    "        super(VoxelGrid, self).__init__()\n",
    "        # Note that we store *corner* values, so we need one more point in each dimension:\n",
    "        storage_shape = tuple(s + 1 for s in shape)\n",
    "        self.grid = nn.Parameter(torch.rand(*storage_shape, d) * max)\n",
    "\n",
    "    def forward(self, P):\n",
    "        \"\"\"Implement trilinear interpolation at the points P.\"\"\"\n",
    "        x, y, z = P[..., 0], P[..., 1], P[..., 2]\n",
    "\n",
    "        # Get indices of the corners, clamping to the grid size where needed:\n",
    "        X0, X1, a = bracket(x, self.grid.shape[0])\n",
    "        Y0, Y1, b = bracket(y, self.grid.shape[1])\n",
    "        Z0, Z1, c = bracket(z, self.grid.shape[2])\n",
    "\n",
    "        # Interpolate in the x direction:\n",
    "        y0z0 = interpolate(self.grid[X0, Y0, Z0, :], self.grid[X1, Y0, Z0, :], a)\n",
    "        y1z0 = interpolate(self.grid[X0, Y1, Z0, :], self.grid[X1, Y1, Z0, :], a)\n",
    "        y0z1 = interpolate(self.grid[X0, Y0, Z1, :], self.grid[X1, Y0, Z1, :], a)\n",
    "        y1z1 = interpolate(self.grid[X0, Y1, Z1, :], self.grid[X1, Y1, Z1, :], a)\n",
    "\n",
    "        # Interpolate in the y direction:\n",
    "        z0 = interpolate(y0z0, y1z0, b)\n",
    "        z1 = interpolate(y0z1, y1z1, b)\n",
    "        \n",
    "        # Interpolate in the z direction:\n",
    "        return interpolate(z0, z1, c).squeeze(-1)"
   ]
  },
  {
   "cell_type": "markdown",
   "metadata": {},
   "source": [
    "The code below initializes a VoxelGrid with random values, and then evaluates the a scalar function at a 3D point:"
   ]
  },
  {
   "cell_type": "code",
   "execution_count": null,
   "metadata": {},
   "outputs": [],
   "source": [
    "voxel_grid_module = VoxelGrid(shape=(6, 6, 6), d=1)\n",
    "point = torch.Tensor([1.5, 2.7, 3.4])\n",
    "output = voxel_grid_module(point)\n",
    "print(f\"Interpolated Output: {output.item():.5f}\")\n",
    "test_eq(output.shape, torch.Size([]))"
   ]
  },
  {
   "cell_type": "markdown",
   "metadata": {},
   "source": [
    "Below we create a grid that interpolates a four-dimensional function (`d=4`), and evaluate it at a 2x2 batch `x` of 3D points:"
   ]
  },
  {
   "cell_type": "code",
   "execution_count": null,
   "metadata": {},
   "outputs": [],
   "source": [
    "voxel_grid_module = VoxelGrid(shape = (6, 6, 6), d=4)\n",
    "\n",
    "x = torch.Tensor([[[1.5, 2.7, 3.4], [2.3, 4.6, 1.1]], [[2.3, 4.6, 1.1], [2.3, 4.6, 1.1]]])\n",
    "y = voxel_grid_module(x)\n",
    "test_eq(x.shape, torch.Size([2, 2, 3]))\n",
    "test_eq(y.shape, torch.Size([2, 2, 4]))\n",
    "print(\"Interpolated Output:\\n\", y.detach().numpy())"
   ]
  },
  {
   "cell_type": "markdown",
   "metadata": {},
   "source": [
    "## DVGO"
   ]
  },
  {
   "cell_type": "code",
   "execution_count": null,
   "metadata": {},
   "outputs": [],
   "source": [
    "@dataclass\n",
    "class Config:\n",
    "    near: float = 0.5\n",
    "    far: float = 3.5\n",
    "    num_samples: int = 64\n",
    "    min_corner: tuple[float] = (-1.0, -1.0, -1.0)\n",
    "    max_corner: tuple[float] = (1.0, 1.0, 1.0)\n",
    "    shape: tuple[int] = (16, 16, 16)\n",
    "    background = WHITE"
   ]
  },
  {
   "cell_type": "code",
   "execution_count": null,
   "metadata": {},
   "outputs": [],
   "source": [
    "def sample_rays(t_values, rays, training=True):\n",
    "    \"\"\"Sample points along the rays, using the t_values defined in the constructor.\n",
    "        During training, add a small random scalar to t_values to prevent overfitting to the\n",
    "        discrete sampling locations.\n",
    "    \"\"\"\n",
    "    # Extract ray origins and directions from rays\n",
    "    origins = rays[..., :3].to(dtype=torch.float32)\n",
    "    directions = rays[..., 3:].to(dtype=torch.float32)\n",
    "\n",
    "    # Add a small random scalar to t_values during training\n",
    "    if training:\n",
    "        with torch.no_grad():\n",
    "            n = t_values.size(0)\n",
    "            random_scalar = (torch.rand(n) - 0.5) / n\n",
    "            actual_ts = t_values.clone() + random_scalar\n",
    "    else:\n",
    "        actual_ts = t_values.clone()\n",
    "\n",
    "    # Sample along the ray\n",
    "    return sample_along_ray(actual_ts, origins, directions)"
   ]
  },
  {
   "cell_type": "code",
   "execution_count": null,
   "metadata": {},
   "outputs": [],
   "source": [
    "class SimpleDVGO(nn.Module):\n",
    "    def __init__(self, config: Config = Config()):\n",
    "        \"\"\"Initialize voxel grids and bounding box corners.\"\"\"\n",
    "        super().__init__()  # Calling the superclass's __init__ method\n",
    "\n",
    "        # Initialize sampler parameters:\n",
    "        self.depths = torch.linspace(\n",
    "            config.near, config.far, config.num_samples + 1, dtype=torch.float32\n",
    "        )\n",
    "        self.t_values = 0.5 * (self.depths[1:] + self.depths[:-1])\n",
    "\n",
    "        # Set up conversion from scene coordinates to grid coordinates:\n",
    "        self.min = torch.tensor(config.min_corner, dtype=torch.float32)\n",
    "        self.max = torch.tensor(config.max_corner, dtype=torch.float32)\n",
    "        self.shape = torch.tensor(config.shape, dtype=torch.float32)\n",
    "\n",
    "        # Initialize differentiable voxel grids:\n",
    "        self.rgb_voxel_grid = VoxelGrid(config.shape, d=3, max=1.0)\n",
    "        self.density_voxel_grid = VoxelGrid(config.shape, d=1, max=0.001)\n",
    "\n",
    "        # Finally, record background color for rendering:\n",
    "        self.background = config.background\n",
    "\n",
    "    def forward(self, rays, training=True):\n",
    "        \"\"\"Perform volume rendering using the provided ray information.\"\"\"\n",
    "        samples = sample_rays(self.t_values, rays, training=training)\n",
    "\n",
    "        # Rescale to fit within the grid\n",
    "        rescaled = self.shape * (samples - self.min) / (self.max - self.min)\n",
    "\n",
    "        # Query Density Voxel Grid\n",
    "        density = torch.squeeze(self.density_voxel_grid(rescaled))\n",
    "        density = F.relu(density)\n",
    "\n",
    "        # Query RGB Voxel Grid\n",
    "        rgb = torch.clamp(self.rgb_voxel_grid(rescaled), 0.0, 1.0)\n",
    "\n",
    "        # Render\n",
    "        return render_along_ray(density, rgb, self.background)\n",
    "    \n",
    "    def alpha(self):\n",
    "        \"\"\"return the alpha for the density voxel grid\"\"\"\n",
    "        density = F.relu(self.density_voxel_grid.grid)\n",
    "        return 1 - torch.exp(-density)\n"
   ]
  },
  {
   "cell_type": "markdown",
   "metadata": {},
   "source": [
    "Below we calculate the colors for 32 random rays, each with their origin and direction stacked into a 6-vector, so the input batch size is $32 \\times 6$, and we expect an output batch size of RGB colors, i.e., $32 \\times 3$:"
   ]
  },
  {
   "cell_type": "code",
   "execution_count": null,
   "metadata": {},
   "outputs": [],
   "source": [
    "# Initialize renderer\n",
    "dvgo = SimpleDVGO()\n",
    "\n",
    "rays = torch.rand((32, 6))\n",
    "colors = dvgo(rays)\n",
    "# Verify shape of the output\n",
    "test_eq(colors.shape, torch.Size([32, 3]))"
   ]
  },
  {
   "cell_type": "markdown",
   "metadata": {},
   "source": [
    "## Some simple test setups"
   ]
  },
  {
   "cell_type": "code",
   "execution_count": null,
   "metadata": {},
   "outputs": [],
   "source": [
    "# Fill the rgb grid with ramps of red, green, and blue values:\n",
    "X, Y, Z, _ = dvgo.rgb_voxel_grid.grid.shape\n",
    "\n",
    "# Create ramps for each channel\n",
    "# Each ramp is initially 1D, and we then unsqueeze to make it 4D with singleton dimensions where needed\n",
    "red_ramp = torch.linspace(0, 1, X).unsqueeze(-1).unsqueeze(-1)  # Size: [X, 1, 1]\n",
    "green_ramp = torch.linspace(0, 1, Y).unsqueeze(0).unsqueeze(-1)  # Size: [1, Y, 1]\n",
    "blue_ramp = torch.linspace(0, 1, Z).unsqueeze(0).unsqueeze(0)  # Size: [1, 1, Z]\n",
    "\n",
    "# When we assign these ramps to the grid, broadcasting will automatically expand them to the full size\n",
    "dvgo.rgb_voxel_grid.grid.data[:, :, :, 0] = red_ramp\n",
    "dvgo.rgb_voxel_grid.grid.data[:, :, :, 1] = green_ramp\n",
    "dvgo.rgb_voxel_grid.grid.data[:, :, :, 2] = blue_ramp\n"
   ]
  },
  {
   "cell_type": "code",
   "execution_count": null,
   "metadata": {},
   "outputs": [],
   "source": [
    "plt.imshow(dvgo.rgb_voxel_grid.grid[4,:,:,:].detach().numpy());"
   ]
  },
  {
   "cell_type": "code",
   "execution_count": null,
   "metadata": {},
   "outputs": [],
   "source": [
    "plt.imshow(dvgo.rgb_voxel_grid.grid[:,12,:,:].detach().numpy());"
   ]
  },
  {
   "cell_type": "code",
   "execution_count": null,
   "metadata": {},
   "outputs": [],
   "source": [
    "plt.imshow(dvgo.rgb_voxel_grid.grid[:,:,15,:].detach().numpy());"
   ]
  },
  {
   "cell_type": "code",
   "execution_count": null,
   "metadata": {},
   "outputs": [],
   "source": [
    "# Let's check interpolation:\n",
    "with torch.no_grad():\n",
    "    P = torch.Tensor([[4, 12, 15], [4, 12, 15]])\n",
    "    print(dvgo.rgb_voxel_grid(P))"
   ]
  },
  {
   "cell_type": "code",
   "execution_count": null,
   "metadata": {},
   "outputs": [],
   "source": [
    "# Fill the density with zeros, except for a cube in the middle:\n",
    "dvgo.density_voxel_grid.grid.data[:, :, :, :] = 0.0\n",
    "\n",
    "for i in range(X // 4, 1 + 3 * X // 4):\n",
    "    for j in range(Y // 4, 1 + 3 * Y // 4):\n",
    "        for k in range(Z // 4, 1 + 3 * Z // 4):\n",
    "            dvgo.density_voxel_grid.grid.data[i, j, k, :] = 100.0\n"
   ]
  },
  {
   "cell_type": "code",
   "execution_count": null,
   "metadata": {},
   "outputs": [],
   "source": [
    "plt.imshow(torch.sum(dvgo.alpha(), axis=2).detach().numpy()/Z); plt.colorbar();"
   ]
  },
  {
   "cell_type": "markdown",
   "metadata": {},
   "source": [
    "## Some orthographic renders"
   ]
  },
  {
   "cell_type": "code",
   "execution_count": null,
   "metadata": {},
   "outputs": [],
   "source": [
    "def create_rays(config: Config, face, off=1.0):\n",
    "    \"\"\"\n",
    "    Create rays for an orthographic camera on one of the grid faces.\n",
    "    It generates rays centered at the center of every pixel on the face.\n",
    "    Takes as input a config and the face id \"x\", \"-x\", \"y\", \"-y\", \"z\", \"-z\".\n",
    "    \"\"\"\n",
    "    # Get grid shape:\n",
    "    n, m, p = config.shape\n",
    "    def get_x(i):\n",
    "        dx = (config.max_corner[0] - config.min_corner[0]) / n\n",
    "        return config.min_corner[0] + (i + 0.5) * dx\n",
    "    def get_y(j):\n",
    "        dy = (config.max_corner[1] - config.min_corner[1]) / m\n",
    "        return config.min_corner[1] + (j + 0.5) * dy\n",
    "    def get_z(k):\n",
    "        dz = (config.max_corner[2] - config.min_corner[2]) / p\n",
    "        return config.min_corner[2] + (k + 0.5) * dz\n",
    "    # Fill in the rays:\n",
    "    if face == \"x\":\n",
    "        rays = torch.zeros((m, p, 6))\n",
    "        for j in range(m):\n",
    "            for k in range(p):\n",
    "                rays[j, k, :] = torch.tensor(\n",
    "                    [config.min_corner[0]-off, get_y(j), get_z(k), 1.0, 0.0, 0.0]\n",
    "                )\n",
    "    elif face == \"-x\":\n",
    "        rays = torch.zeros((m, p, 6))\n",
    "        for j in range(m):\n",
    "            for k in range(p):\n",
    "                rays[j, k, :] = torch.tensor(\n",
    "                    [config.max_corner[0]+off, get_y(j), get_z(k), -1.0, 0.0, 0.0]\n",
    "                )\n",
    "    elif face == \"y\":\n",
    "        rays = torch.zeros((n, p, 6))\n",
    "        for i in range(n):\n",
    "            for k in range(p):\n",
    "                rays[i, k, :] = torch.tensor(\n",
    "                    [get_x(i), config.min_corner[1]-off, get_z(k), 0.0, 1.0, 0.0]\n",
    "                )\n",
    "    elif face == \"-y\":\n",
    "        rays = torch.zeros((n, p, 6))\n",
    "        for i in range(n):\n",
    "            for k in range(p):\n",
    "                rays[i, k, :] = torch.tensor(\n",
    "                    [get_x(i), config.max_corner[1]+off, get_z(k), 0.0, -1.0, 0.0]\n",
    "                )\n",
    "    elif face == \"z\":\n",
    "        rays = torch.zeros((n, m, 6))\n",
    "        for i in range(n):\n",
    "            for j in range(m):\n",
    "                rays[i, j, :] = torch.tensor(\n",
    "                    [get_x(i), get_y(j), config.min_corner[2]-off, 0.0, 0.0, 1.0]\n",
    "                )\n",
    "    elif face == \"-z\":\n",
    "        rays = torch.zeros((n, m, 6))\n",
    "        for i in range(n):\n",
    "            for j in range(m):\n",
    "                rays[i, j, :] = torch.tensor(\n",
    "                    [get_x(i), get_y(j), config.max_corner[2]+off, 0.0, 0.0, -1.0]\n",
    "                )\n",
    "    else:\n",
    "        raise ValueError(\"Invalid face id\")\n",
    "    return rays"
   ]
  },
  {
   "cell_type": "code",
   "execution_count": null,
   "metadata": {},
   "outputs": [],
   "source": [
    "# Let's create rays for the \"x\" face:\n",
    "x_rays = create_rays(Config(), \"x\")\n",
    "test_eq(x_rays.shape, torch.Size([16, 16, 6]))\n",
    "half = 2.0/32\n",
    "test_close(x_rays[0,0], torch.tensor([-2, -1+half,  -1+half, 1, 0, 0]), 1e-3)\n",
    "test_close(x_rays[-1,-1], torch.tensor([-2, 1-half,  1-half, 1, 0, 0]), 1e-3)"
   ]
  },
  {
   "cell_type": "code",
   "execution_count": null,
   "metadata": {},
   "outputs": [],
   "source": [
    "# Sample from the x-face rays:\n",
    "x_ray_samples = sample_rays(dvgo.t_values, x_rays, training=False)\n",
    "test_eq(x_ray_samples.shape, torch.Size([16, 16, 64, 3]))\n",
    "# Check that first sample is about 0.5 from the face:\n",
    "test_close(x_ray_samples[0, 0, 0], np.array([-1.5, -0.9375, -0.9375]), 0.1)\n",
    "# And that the last sample is about 0.5 from the back face:\n",
    "test_close(x_ray_samples[0, 0, -1], np.array([1.5, -0.9375, -0.9375]), 0.1)"
   ]
  },
  {
   "cell_type": "code",
   "execution_count": null,
   "metadata": {},
   "outputs": [],
   "source": [
    "# Check scaled and bracketed coordinates:\n",
    "rescaled = dvgo.shape * (x_ray_samples - dvgo.min) / (dvgo.max - dvgo.min)\n",
    "test_eq(rescaled.shape, torch.Size([16, 16, 64, 3]))\n",
    "middle = rescaled[8, 8]\n",
    "test_eq(middle.shape, torch.Size([64, 3]))\n",
    "print(middle[:, 0])\n",
    "bracket(middle[:, 0],16)"
   ]
  },
  {
   "cell_type": "markdown",
   "metadata": {},
   "source": [
    "Now, check the density and RGB values along this middle ray:"
   ]
  },
  {
   "cell_type": "code",
   "execution_count": null,
   "metadata": {},
   "outputs": [],
   "source": [
    "x, y, z = middle[..., 0], middle[..., 1], middle[..., 2]\n",
    "\n",
    "# Get indices of the corners, clamping to the grid size where needed:\n",
    "X0, X1, a = bracket(x, dvgo.rgb_voxel_grid.grid.shape[0])\n",
    "Y0, Y1, b = bracket(y, dvgo.rgb_voxel_grid.grid.shape[1])\n",
    "Z0, Z1, c = bracket(z, dvgo.rgb_voxel_grid.grid.shape[2])\n"
   ]
  },
  {
   "cell_type": "code",
   "execution_count": null,
   "metadata": {},
   "outputs": [],
   "source": [
    "# Interpolate in the x direction:\n",
    "y0z0 = interpolate(dvgo.rgb_voxel_grid.grid[X0, Y0, Z0, :], dvgo.rgb_voxel_grid.grid[X1, Y0, Z0, :], a)\n",
    "y1z0 = interpolate(dvgo.rgb_voxel_grid.grid[X0, Y1, Z0, :], dvgo.rgb_voxel_grid.grid[X1, Y1, Z0, :], a)\n",
    "y0z1 = interpolate(dvgo.rgb_voxel_grid.grid[X0, Y0, Z1, :], dvgo.rgb_voxel_grid.grid[X1, Y0, Z1, :], a)\n",
    "y1z1 = interpolate(dvgo.rgb_voxel_grid.grid[X0, Y1, Z1, :], dvgo.rgb_voxel_grid.grid[X1, Y1, Z1, :], a)\n",
    "\n",
    "# Interpolate in the y direction:\n",
    "z0 = interpolate(y0z0, y1z0, b)\n",
    "z1 = interpolate(y0z1, y1z1, b)\n",
    "\n",
    "# Interpolate in the z direction:\n",
    "predicted_rgb = interpolate(z0, z1, c).squeeze(-1)\n",
    "\n",
    "test_eq(predicted_rgb.shape, torch.Size([64, 3]))\n",
    "test_close(predicted_rgb[0], torch.tensor([0.0, 0.5, 0.5]), 0.1)\n",
    "test_close(predicted_rgb[32], torch.tensor([0.5, 0.5, 0.5]), 0.1)\n",
    "test_close(predicted_rgb[-1], torch.tensor([1.0, 0.5, 0.5]), 0.1)"
   ]
  },
  {
   "cell_type": "code",
   "execution_count": null,
   "metadata": {},
   "outputs": [],
   "source": [
    "density = torch.squeeze(dvgo.density_voxel_grid(middle))\n",
    "density = F.relu(density)\n",
    "rgb = torch.clamp(dvgo.rgb_voxel_grid(middle), 0, 1)"
   ]
  },
  {
   "cell_type": "code",
   "execution_count": null,
   "metadata": {},
   "outputs": [],
   "source": [
    "# Check shapes and values:\n",
    "test_eq(density.shape, torch.Size([64]))\n",
    "test_eq(rgb.shape, torch.Size([64, 3]))\n",
    "test_close(rgb[0], torch.tensor([0.0, 0.5, 0.5]), 0.1)\n",
    "test_close(rgb[32], torch.tensor([0.5, 0.5, 0.5]), 0.1)\n",
    "test_close(rgb[-1], torch.tensor([1.0, 0.5, 0.5]), 0.1)"
   ]
  },
  {
   "cell_type": "code",
   "execution_count": null,
   "metadata": {},
   "outputs": [],
   "source": [
    "# plot density using plotly, lines and markers:\n",
    "px.line(x=dvgo.t_values, y=density.detach().numpy(), title=\"Density\", markers=\"lines+markers\")"
   ]
  },
  {
   "cell_type": "code",
   "execution_count": null,
   "metadata": {},
   "outputs": [],
   "source": [
    "# plot alpha using plotly, lines and markers:\n",
    "px.line(x=dvgo.t_values, y=1-np.exp(-density.detach().numpy()), title=\"Alpha\", markers=\"lines+markers\")"
   ]
  },
  {
   "cell_type": "code",
   "execution_count": null,
   "metadata": {},
   "outputs": [],
   "source": [
    "# Plot transmittance using plotly, lines and markers:\n",
    "transmittance = torch.exp(-torch.cumsum(density, dim=-1))\n",
    "px.line(x=dvgo.t_values, y=transmittance.detach().numpy(), title=\"Transmittance\", markers=\"lines+markers\")"
   ]
  },
  {
   "cell_type": "code",
   "execution_count": null,
   "metadata": {},
   "outputs": [],
   "source": [
    "# Plot rgb the same way, one trace at a time:\n",
    "fig = go.Figure()\n",
    "colors =dict(zip([0,1,2], [\"red\", \"green\", \"blue\"]))\n",
    "for i in range(3):\n",
    "    fig.add_trace(\n",
    "        go.Scatter(\n",
    "            x=dvgo.t_values,\n",
    "            y=rgb[:, i].detach().numpy(),\n",
    "            mode=\"lines+markers\",\n",
    "            name=f\"RGB\"[i],\n",
    "            marker=dict(size=5, color=colors[i]),\n",
    "        )\n",
    "    )\n",
    "fig.update_layout(title=\"RGB\")"
   ]
  },
  {
   "cell_type": "code",
   "execution_count": null,
   "metadata": {},
   "outputs": [],
   "source": [
    "# Make sure to use actual calculation:\n",
    "with torch.no_grad():\n",
    "    alpha = 1 - torch.exp(-density)\n",
    "    cumulative_density = torch.cumsum(density, dim=-1)\n",
    "    trans = torch.exp(-cumulative_density)\n",
    "    trans = torch.cat([torch.ones_like(density[..., :1]), trans[..., :-1]], dim=-1)\n",
    "\n",
    "    weights = alpha * trans\n",
    "    color_acc = torch.einsum('...i,...ij->...j', weights, rgb)\n",
    "    acc = weights.sum(dim=-1, keepdim=True)\n",
    "\n",
    "    color = color_acc + (1.0 - acc) * WHITE\n",
    "\n",
    "print(acc, color_acc, color)"
   ]
  },
  {
   "cell_type": "code",
   "execution_count": null,
   "metadata": {},
   "outputs": [],
   "source": [
    "px.line(x=dvgo.t_values, y=weights.detach().numpy(), title=\"Weights\", markers=\"lines+markers\")"
   ]
  },
  {
   "cell_type": "markdown",
   "metadata": {},
   "source": [
    "Finally, render:"
   ]
  },
  {
   "cell_type": "code",
   "execution_count": null,
   "metadata": {},
   "outputs": [],
   "source": [
    "x_render = dvgo(x_rays, training=False).detach().numpy()\n",
    "plt.imshow(x_render);"
   ]
  },
  {
   "cell_type": "code",
   "execution_count": null,
   "metadata": {},
   "outputs": [],
   "source": []
  }
 ],
 "metadata": {
  "kernelspec": {
   "display_name": "python3",
   "name": "python3"
  }
 },
 "nbformat": 4,
 "nbformat_minor": 2
}
