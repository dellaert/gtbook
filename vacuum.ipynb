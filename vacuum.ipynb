{
 "cells": [
  {
   "cell_type": "markdown",
   "metadata": {},
   "source": [
    "# vacuum\n",
    "\n",
    "> Support code for defining the discrete states and discrete actions of a vacuum cleaning robot."
   ]
  },
  {
   "cell_type": "code",
   "execution_count": null,
   "metadata": {},
   "outputs": [],
   "source": [
    "#| default_exp vacuum"
   ]
  },
  {
   "cell_type": "code",
   "execution_count": null,
   "metadata": {},
   "outputs": [],
   "source": [
    "#| include: false\n",
    "from fastcore.all import *"
   ]
  },
  {
   "cell_type": "code",
   "execution_count": null,
   "metadata": {},
   "outputs": [],
   "source": [
    "#| export\n",
    "import numpy as np\n",
    "import gtsam\n",
    "from gtbook.discrete import Variables\n",
    "from gtbook.display import pretty"
   ]
  },
  {
   "cell_type": "markdown",
   "metadata": {},
   "source": [
    "## State"
   ]
  },
  {
   "cell_type": "code",
   "execution_count": null,
   "metadata": {},
   "outputs": [],
   "source": [
    "#| export\n",
    "rooms = [\"Living Room\", \"Kitchen\", \"Office\", \"Hallway\", \"Dining Room\"]"
   ]
  },
  {
   "cell_type": "code",
   "execution_count": null,
   "metadata": {},
   "outputs": [],
   "source": [
    "test_eq(rooms, ['Living Room', 'Kitchen', 'Office', 'Hallway', 'Dining Room'])"
   ]
  },
  {
   "cell_type": "markdown",
   "metadata": {},
   "source": [
    "## Actions"
   ]
  },
  {
   "cell_type": "code",
   "execution_count": null,
   "metadata": {},
   "outputs": [],
   "source": [
    "#| export\n",
    "action_space = [\"L\", \"R\", \"U\", \"D\"]\n",
    "action_spec = \"\"\"\n",
    "    1/0/0/0/0 2/8/0/0/0 1/0/0/0/0 2/0/0/8/0\n",
    "    8/2/0/0/0 0/1/0/0/0 0/1/0/0/0 0/2/0/0/8\n",
    "    0/0/1/0/0 0/0/2/8/0 0/0/1/0/0 0/0/1/0/0\n",
    "    0/0/8/2/0 0/0/0/2/8 8/0/0/2/0 0/0/0/1/0\n",
    "    0/0/0/8/2 0/0/0/0/1 0/8/0/0/2 0/0/0/0/1\n",
    "    \"\"\""
   ]
  },
  {
   "cell_type": "code",
   "execution_count": null,
   "metadata": {},
   "outputs": [],
   "source": [
    "test_eq(action_space, ['L', 'R', 'U', 'D'])"
   ]
  },
  {
   "cell_type": "code",
   "execution_count": null,
   "metadata": {},
   "outputs": [
    {
     "data": {
      "text/html": [
       "<div>\n",
       "<p>  <i>P(X2|X1,A1):</i></p>\n",
       "<table class='DiscreteConditional'>\n",
       "  <thead>\n",
       "    <tr><th><i>X1</i></th><th><i>A1</i></th><th>0</th><th>1</th><th>2</th><th>3</th><th>4</th></tr>\n",
       "  </thead>\n",
       "  <tbody>\n",
       "    <tr><th>0</th><th>0</th><td>1</td><td>0</td><td>0</td><td>0</td><td>0</td></tr>\n",
       "    <tr><th>0</th><th>1</th><td>0.2</td><td>0.8</td><td>0</td><td>0</td><td>0</td></tr>\n",
       "    <tr><th>0</th><th>2</th><td>1</td><td>0</td><td>0</td><td>0</td><td>0</td></tr>\n",
       "    <tr><th>0</th><th>3</th><td>0.2</td><td>0</td><td>0</td><td>0.8</td><td>0</td></tr>\n",
       "    <tr><th>1</th><th>0</th><td>0.8</td><td>0.2</td><td>0</td><td>0</td><td>0</td></tr>\n",
       "    <tr><th>1</th><th>1</th><td>0</td><td>1</td><td>0</td><td>0</td><td>0</td></tr>\n",
       "    <tr><th>1</th><th>2</th><td>0</td><td>1</td><td>0</td><td>0</td><td>0</td></tr>\n",
       "    <tr><th>1</th><th>3</th><td>0</td><td>0.2</td><td>0</td><td>0</td><td>0.8</td></tr>\n",
       "    <tr><th>2</th><th>0</th><td>0</td><td>0</td><td>1</td><td>0</td><td>0</td></tr>\n",
       "    <tr><th>2</th><th>1</th><td>0</td><td>0</td><td>0.2</td><td>0.8</td><td>0</td></tr>\n",
       "    <tr><th>2</th><th>2</th><td>0</td><td>0</td><td>1</td><td>0</td><td>0</td></tr>\n",
       "    <tr><th>2</th><th>3</th><td>0</td><td>0</td><td>1</td><td>0</td><td>0</td></tr>\n",
       "    <tr><th>3</th><th>0</th><td>0</td><td>0</td><td>0.8</td><td>0.2</td><td>0</td></tr>\n",
       "    <tr><th>3</th><th>1</th><td>0</td><td>0</td><td>0</td><td>0.2</td><td>0.8</td></tr>\n",
       "    <tr><th>3</th><th>2</th><td>0.8</td><td>0</td><td>0</td><td>0.2</td><td>0</td></tr>\n",
       "    <tr><th>3</th><th>3</th><td>0</td><td>0</td><td>0</td><td>1</td><td>0</td></tr>\n",
       "    <tr><th>4</th><th>0</th><td>0</td><td>0</td><td>0</td><td>0.8</td><td>0.2</td></tr>\n",
       "    <tr><th>4</th><th>1</th><td>0</td><td>0</td><td>0</td><td>0</td><td>1</td></tr>\n",
       "    <tr><th>4</th><th>2</th><td>0</td><td>0.8</td><td>0</td><td>0</td><td>0.2</td></tr>\n",
       "    <tr><th>4</th><th>3</th><td>0</td><td>0</td><td>0</td><td>0</td><td>1</td></tr>\n",
       "  </tbody>\n",
       "</table>\n",
       "</div>"
      ],
      "text/plain": [
       "<gtbook.display.pretty>"
      ]
     },
     "execution_count": null,
     "metadata": {},
     "output_type": "execute_result"
    }
   ],
   "source": [
    "VARIABLES = Variables()\n",
    "\n",
    "X = VARIABLES.discrete_series(\"X\", [1, 2, 3], rooms) # states for times 1,2 and 3\n",
    "A = VARIABLES.discrete_series(\"A\", [1, 2], action_space) # actions for times 1 and 2\n",
    "motion_model = gtsam.DiscreteConditional(X[2], [X[1], A[1]], action_spec)\n",
    "pretty(motion_model)\n"
   ]
  },
  {
   "cell_type": "markdown",
   "metadata": {},
   "source": [
    "## Sensing"
   ]
  },
  {
   "cell_type": "code",
   "execution_count": null,
   "metadata": {},
   "outputs": [],
   "source": [
    "#| export\n",
    "light_levels = [\"dark\", \"medium\", \"light\"]\n",
    "sensor_spec = \"1/1/8 1/1/8 2/7/1 8/1/1 1/8/1\""
   ]
  },
  {
   "cell_type": "code",
   "execution_count": null,
   "metadata": {},
   "outputs": [],
   "source": [
    "test_eq(sensor_spec, '1/1/8 1/1/8 2/7/1 8/1/1 1/8/1')"
   ]
  },
  {
   "cell_type": "markdown",
   "metadata": {},
   "source": [
    "## RL"
   ]
  },
  {
   "cell_type": "code",
   "execution_count": null,
   "metadata": {},
   "outputs": [],
   "source": [
    "# | export\n",
    "def calculate_value_system(\n",
    "    R: np.array,  # reward function as a tensor\n",
    "    T: np.array,  # transition probabilities as a tensor\n",
    "    pi: np.array,  # policy, as a vector\n",
    "    gamma=0.9,  # discount factor\n",
    "):\n",
    "    \"\"\"Calculate A, b matrix of linear system for value computation.\"\"\"\n",
    "    b = np.empty((5,), float)\n",
    "    AA = np.empty((5, 5), float)\n",
    "    for x, room in enumerate(rooms):\n",
    "        a = pi[x]  # action under policy\n",
    "        b[x] = T[x, a] @ R[x, a]  # expected reward under policy pi\n",
    "        AA[x] = -gamma * T[x, a]\n",
    "        AA[x, x] += 1\n",
    "    return AA, b\n",
    "\n",
    "\n",
    "def calculate_value_function(\n",
    "    R: np.array,  # reward function as a tensor\n",
    "    T: np.array,  # transition probabilities as a tensor\n",
    "    pi: np.array,  # policy, as a vector\n",
    "    gamma=0.9,  # discount factor\n",
    "):\n",
    "    \"\"\"Calculate value function for given policy\"\"\"\n",
    "    AA, b = calculate_value_system(R, T, pi, gamma)\n",
    "    return np.linalg.solve(AA, b)"
   ]
  },
  {
   "cell_type": "code",
   "execution_count": null,
   "metadata": {},
   "outputs": [],
   "source": [
    "# From section 3.5:\n",
    "conditional = gtsam.DiscreteConditional((2,5), [(0,5), (1,4)], action_spec)\n",
    "R = np.empty((5, 4, 5), float)\n",
    "T = np.empty((5, 4, 5), float)\n",
    "for assignment, value in conditional.enumerate():\n",
    "    x, a, y = assignment[0], assignment[1], assignment[2]\n",
    "    R[x, a, y] = 10.0 if y == rooms.index(\"Living Room\") else 0.0\n",
    "    T[x, a, y] = value"
   ]
  },
  {
   "cell_type": "code",
   "execution_count": null,
   "metadata": {},
   "outputs": [],
   "source": [
    "test_eq(R[2, 1], [10,  0,  0,  0,  0])"
   ]
  },
  {
   "cell_type": "markdown",
   "metadata": {},
   "source": [
    "Calculating the value function of a given policy `pi`:"
   ]
  },
  {
   "cell_type": "code",
   "execution_count": null,
   "metadata": {},
   "outputs": [],
   "source": [
    "reasonable_policy = [2, 1, 0, 2, 1]\n",
    "AA, b = calculate_value_system(R, T, reasonable_policy)\n",
    "test_close(\n",
    "    AA,\n",
    "    np.array(\n",
    "        [\n",
    "            [0.1, 0, 0, 0, 0],\n",
    "            [0, 0.1, 0, 0, 0],\n",
    "            [0, 0, 0.1, 0, 0],\n",
    "            [-0.72, 0, 0, 0.82, 0],\n",
    "            [0, 0, 0, 0, 0.1],\n",
    "        ]\n",
    "    ),\n",
    ")\n",
    "test_close(b, np.array([10, 0, 0, 8, 0]))"
   ]
  },
  {
   "cell_type": "code",
   "execution_count": null,
   "metadata": {},
   "outputs": [],
   "source": [
    "value_for_pi = calculate_value_function(R, T, reasonable_policy)\n",
    "test_close(value_for_pi, np.array([100, 0, 0, 97.56097561, 0]))"
   ]
  },
  {
   "cell_type": "code",
   "execution_count": null,
   "metadata": {},
   "outputs": [],
   "source": [
    "optimal_policy = [0, 0, 1, 2, 2]\n",
    "value_for_pi = calculate_value_function(R, T, optimal_policy)\n",
    "test_close(\n",
    "    value_for_pi,\n",
    "    np.array([100, 97.56097561, 85.66329566, 97.56097561, 85.66329566]),\n",
    ")"
   ]
  }
 ],
 "metadata": {
  "kernelspec": {
   "display_name": "python3",
   "language": "python",
   "name": "python3"
  }
 },
 "nbformat": 4,
 "nbformat_minor": 2
}
