{
 "cells": [
  {
   "cell_type": "markdown",
   "metadata": {},
   "source": [
    "# vacuum\n",
    "\n",
    "> Support code for defining the discrete states and discrete actions of a vacuum cleaning robot."
   ]
  },
  {
   "cell_type": "code",
   "execution_count": null,
   "metadata": {},
   "outputs": [],
   "source": [
    "#| default_exp vacuum"
   ]
  },
  {
   "cell_type": "code",
   "execution_count": null,
   "metadata": {},
   "outputs": [],
   "source": [
    "#| include: false\n",
    "from fastcore.all import *"
   ]
  },
  {
   "cell_type": "code",
   "execution_count": null,
   "metadata": {},
   "outputs": [],
   "source": [
    "#| export"
   ]
  },
  {
   "cell_type": "markdown",
   "metadata": {},
   "source": [
    "## State"
   ]
  },
  {
   "cell_type": "code",
   "execution_count": null,
   "metadata": {},
   "outputs": [],
   "source": [
    "#| export\n",
    "rooms = [\"Living Room\", \"Kitchen\", \"Office\", \"Hallway\", \"Dining Room\"]"
   ]
  },
  {
   "cell_type": "code",
   "execution_count": null,
   "metadata": {},
   "outputs": [
    {
     "data": {
      "text/plain": [
       "['Living Room', 'Kitchen', 'Office', 'Hallway', 'Dining Room']"
      ]
     },
     "execution_count": null,
     "metadata": {},
     "output_type": "execute_result"
    }
   ],
   "source": [
    "rooms"
   ]
  },
  {
   "cell_type": "markdown",
   "metadata": {},
   "source": [
    "## Actions"
   ]
  },
  {
   "cell_type": "code",
   "execution_count": null,
   "metadata": {},
   "outputs": [],
   "source": [
    "#| export\n",
    "action_space = [\"L\", \"R\", \"U\", \"D\"]\n",
    "action_spec = \"\"\"\n",
    "    1/0/0/0/0 2/8/0/0/0 1/0/0/0/0 2/0/0/8/0\n",
    "    8/2/0/0/0 0/1/0/0/0 0/1/0/0/0 0/2/0/0/8\n",
    "    0/0/1/0/0 0/0/2/8/0 0/0/1/0/0 0/0/1/0/0\n",
    "    0/0/8/2/0 0/0/0/2/8 8/0/0/2/0 0/0/0/1/0\n",
    "    0/0/0/8/2 0/0/0/0/1 0/8/0/0/2 0/0/0/0/1\n",
    "    \"\"\""
   ]
  },
  {
   "cell_type": "code",
   "execution_count": null,
   "metadata": {},
   "outputs": [
    {
     "data": {
      "text/plain": [
       "['L', 'R', 'U', 'D']"
      ]
     },
     "execution_count": null,
     "metadata": {},
     "output_type": "execute_result"
    }
   ],
   "source": [
    "action_space"
   ]
  },
  {
   "cell_type": "code",
   "execution_count": null,
   "metadata": {},
   "outputs": [],
   "source": [
    "import gtsam\n",
    "from gtbook.discrete import Variables\n",
    "from gtbook.display import pretty"
   ]
  },
  {
   "cell_type": "code",
   "execution_count": null,
   "metadata": {},
   "outputs": [
    {
     "data": {
      "text/html": [
       "<div>\n",
       "<p>  <i>P(X2|X1,A1):</i></p>\n",
       "<table class='DiscreteConditional'>\n",
       "  <thead>\n",
       "    <tr><th><i>X1</i></th><th><i>A1</i></th><th>0</th><th>1</th><th>2</th><th>3</th><th>4</th></tr>\n",
       "  </thead>\n",
       "  <tbody>\n",
       "    <tr><th>0</th><th>0</th><td>1</td><td>0</td><td>0</td><td>0</td><td>0</td></tr>\n",
       "    <tr><th>0</th><th>1</th><td>0.2</td><td>0.8</td><td>0</td><td>0</td><td>0</td></tr>\n",
       "    <tr><th>0</th><th>2</th><td>1</td><td>0</td><td>0</td><td>0</td><td>0</td></tr>\n",
       "    <tr><th>0</th><th>3</th><td>0.2</td><td>0</td><td>0</td><td>0.8</td><td>0</td></tr>\n",
       "    <tr><th>1</th><th>0</th><td>0.8</td><td>0.2</td><td>0</td><td>0</td><td>0</td></tr>\n",
       "    <tr><th>1</th><th>1</th><td>0</td><td>1</td><td>0</td><td>0</td><td>0</td></tr>\n",
       "    <tr><th>1</th><th>2</th><td>0</td><td>1</td><td>0</td><td>0</td><td>0</td></tr>\n",
       "    <tr><th>1</th><th>3</th><td>0</td><td>0.2</td><td>0</td><td>0</td><td>0.8</td></tr>\n",
       "    <tr><th>2</th><th>0</th><td>0</td><td>0</td><td>1</td><td>0</td><td>0</td></tr>\n",
       "    <tr><th>2</th><th>1</th><td>0</td><td>0</td><td>0.2</td><td>0.8</td><td>0</td></tr>\n",
       "    <tr><th>2</th><th>2</th><td>0</td><td>0</td><td>1</td><td>0</td><td>0</td></tr>\n",
       "    <tr><th>2</th><th>3</th><td>0</td><td>0</td><td>1</td><td>0</td><td>0</td></tr>\n",
       "    <tr><th>3</th><th>0</th><td>0</td><td>0</td><td>0.8</td><td>0.2</td><td>0</td></tr>\n",
       "    <tr><th>3</th><th>1</th><td>0</td><td>0</td><td>0</td><td>0.2</td><td>0.8</td></tr>\n",
       "    <tr><th>3</th><th>2</th><td>0.8</td><td>0</td><td>0</td><td>0.2</td><td>0</td></tr>\n",
       "    <tr><th>3</th><th>3</th><td>0</td><td>0</td><td>0</td><td>1</td><td>0</td></tr>\n",
       "    <tr><th>4</th><th>0</th><td>0</td><td>0</td><td>0</td><td>0.8</td><td>0.2</td></tr>\n",
       "    <tr><th>4</th><th>1</th><td>0</td><td>0</td><td>0</td><td>0</td><td>1</td></tr>\n",
       "    <tr><th>4</th><th>2</th><td>0</td><td>0.8</td><td>0</td><td>0</td><td>0.2</td></tr>\n",
       "    <tr><th>4</th><th>3</th><td>0</td><td>0</td><td>0</td><td>0</td><td>1</td></tr>\n",
       "  </tbody>\n",
       "</table>\n",
       "</div>"
      ],
      "text/plain": [
       "<gtbook.display.pretty>"
      ]
     },
     "execution_count": null,
     "metadata": {},
     "output_type": "execute_result"
    }
   ],
   "source": [
    "VARIABLES = Variables()\n",
    "\n",
    "X = VARIABLES.discrete_series(\"X\", [1, 2, 3], rooms) # states for times 1,2 and 3\n",
    "A = VARIABLES.discrete_series(\"A\", [1, 2], action_space) # actions for times 1 and 2\n",
    "motion_model = gtsam.DiscreteConditional(X[2], [X[1], A[1]], action_spec)\n",
    "pretty(motion_model)\n"
   ]
  },
  {
   "cell_type": "markdown",
   "metadata": {},
   "source": [
    "## Sensing"
   ]
  },
  {
   "cell_type": "code",
   "execution_count": null,
   "metadata": {},
   "outputs": [],
   "source": [
    "#| export\n",
    "light_levels = [\"dark\", \"medium\", \"light\"]\n",
    "sensor_spec = \"1/1/8 1/1/8 2/7/1 8/1/1 1/8/1\""
   ]
  },
  {
   "cell_type": "code",
   "execution_count": null,
   "metadata": {},
   "outputs": [
    {
     "data": {
      "text/plain": [
       "'1/1/8 1/1/8 2/7/1 8/1/1 1/8/1'"
      ]
     },
     "execution_count": null,
     "metadata": {},
     "output_type": "execute_result"
    }
   ],
   "source": [
    "sensor_spec"
   ]
  },
  {
   "cell_type": "markdown",
   "metadata": {},
   "source": []
  }
 ],
 "metadata": {
  "kernelspec": {
   "display_name": "python3",
   "language": "python",
   "name": "python3"
  }
 },
 "nbformat": 4,
 "nbformat_minor": 2
}
