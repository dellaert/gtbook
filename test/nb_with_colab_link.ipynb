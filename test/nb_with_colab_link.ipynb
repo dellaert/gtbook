{
 "cells": [
  {
   "cell_type": "markdown",
   "id": "2ca949af",
   "metadata": {
    "colab_type": "text",
    "id": "view-in-github"
   },
   "source": [
    "<a href=\"https://colab.research.google.com/github/gtbook/robotics/blob/main/S10_introduction.ipynb\" target=\"_parent\"><img src=\"https://colab.research.google.com/assets/colab-badge.svg\" alt=\"Open In Colab\"/></a>"
   ]
  },
  {
   "cell_type": "code",
   "execution_count": null,
   "id": "c80a45e5",
   "metadata": {
    "tags": [
     "remove-cell"
    ]
   },
   "outputs": [],
   "source": [
    "%pip install -q -U gtbook"
   ]
  },
  {
   "cell_type": "markdown",
   "id": "4be934e0",
   "metadata": {
    "id": "Ow_ar2AAFHi0"
   },
   "source": [
    "# Introduction"
   ]
  },
  {
   "cell_type": "code",
   "execution_count": 1,
   "id": "22e58328",
   "metadata": {
    "tags": [
     "remove-input"
    ]
   },
   "outputs": [
    {
     "data": {
      "text/html": [
       "\n",
       "        <div align='center'>\n",
       "        <img src='https://github.com/gtbook/robotics/blob/main/Art/steampunk/S10-Robot%20menagerie-00.jpg?raw=1' style='height:256 width:100%'/>\n",
       "        </div>\n",
       "        "
      ],
      "text/plain": [
       "<IPython.core.display.HTML object>"
      ]
     },
     "metadata": {},
     "output_type": "display_data"
    }
   ],
   "source": [
    "from gtbook.display import randomImages\n",
    "from IPython.core.display import display\n",
    "display(randomImages(1, 0, \"steampunk\", 1))"
   ]
  },
  {
   "cell_type": "markdown",
   "id": "Ow_ar2AAFHi0",
   "metadata": {
    "id": "Ow_ar2AAFHi0"
   },
   "source": [
    "When you are given a task to perform, for example, place the chairs in\n",
    "the room into a circular pattern, you might proceed as follows. First,\n",
    "look around the room and assess the situation. How many chairs are\n",
    "there? Where are they located? Second, you might make a plan for putting\n",
    "the chairs into the desired pattern: Go to the first chair, pick it up,\n",
    "and move it to its desired location; then, repeat this for the second\n",
    "chair, and so on. Finally, execute the plan, and arrange the chairs as\n",
    "desired. This basic strategy is often referred to as the Sense-Think-Act\n",
    "paradigm, and it forms the basis for the behavior of most all robotic\n",
    "systems.\n",
    "\n",
    "In robotic systems, *sensing* might be performed using computer vision,\n",
    "touch sensors, laser range scanners, or any number of currently\n",
    "available sensing modalities. *Thinking* corresponds to the process of\n",
    "manipulating an internal model of the world, reasoning about which\n",
    "actions the robot could perform, and how these actions would change the\n",
    "state of the world. Finally, *acting* is the moment when the robot moves\n",
    "in, and interacts with, its environment.\n",
    "\n",
    "For real robotic systems, it is almost never the case that a robot\n",
    "succeeds at performing a task by using a single instance of this\n",
    "sense-think-act process. Rather, these steps are typically performed\n",
    "iteratively. At each iteration, sensing updates the robot’s\n",
    "understanding of the current situation; thinking is used to update or\n",
    "refine the current plan; actions are then executed to bring things a bit\n",
    "closer to the desired outcome. For this reason, one typically refers to\n",
    "the *sense-think-act loop*. The speed at which this loop is executed\n",
    "varies based on the task to be performed. For a chess playing robot, a\n",
    "single iteration could take seconds or minutes (each iteration\n",
    "corresponding to a single move). For a self-driving car, a single\n",
    "iteration of sense-think-act might take milliseconds (or less). In the\n",
    "limit, as the time associated to a single iteration decreases to zero,\n",
    "we obtain continuous time systems. While the specific behavior of these\n",
    "various systems can be quite different, they are all nicely described in\n",
    "terms of the sense-think-act loop, and for this reason, we use this\n",
    "paradigm as the organizing structure for our development.\n",
    "\n",
    "In this chapter, we introduce concepts that are fundamental to the study\n",
    "of intelligent robots, particularly those that rely on the\n",
    "sense-think-act paradigm. We introduce the concept of world state, and\n",
    "describe various possible methods that can be used to represent the\n",
    "world state. We then introduce the notion of the robot’s state, which is\n",
    "subtly different from the state of objects in the world, due mainly to\n",
    "the fact that the robot can directly change its own state. The robots\n",
    "actions and how to represent them are the topic of the subsequent\n",
    "section. Finally, we give a brief overview of sensing methodologies that\n",
    "are currently of interest to intelligent robotic systems."
   ]
  },
  {
   "cell_type": "code",
   "execution_count": null,
   "id": "0f900b45",
   "metadata": {},
   "outputs": [],
   "source": []
  }
 ],
 "metadata": {
  "colab": {
   "include_colab_link": true,
   "name": "S00_introduction.ipynb",
   "provenance": []
  },
  "kernelspec": {
   "display_name": "Python 3 (ipykernel)",
   "language": "python",
   "name": "python3"
  },
  "language_info": {
   "codemirror_mode": {
    "name": "ipython",
    "version": 3
   },
   "file_extension": ".py",
   "mimetype": "text/x-python",
   "name": "python",
   "nbconvert_exporter": "python",
   "pygments_lexer": "ipython3",
   "version": "3.8.12"
  },
  "latex_metadata": {
   "affiliation": "Georgia Institute of Technology",
   "author": "Frank Dellaert and Seth Hutchinson",
   "title": "Intro to Robotics with GTSAM"
  }
 },
 "nbformat": 4,
 "nbformat_minor": 5
}
