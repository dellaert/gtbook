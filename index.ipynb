{
 "cells": [
  {
   "cell_type": "code",
   "execution_count": null,
   "metadata": {},
   "outputs": [],
   "source": [
    "#hide\n",
    "from gtbook.discrete import *\n",
    "from gtbook.display import *"
   ]
  },
  {
   "cell_type": "markdown",
   "metadata": {},
   "source": [
    "# gtbook\n",
    "\n",
    "> An [nbdev](https://nbdev.fast.ai/) powered toolbox for Frank and Seth's robotics book."
   ]
  },
  {
   "cell_type": "markdown",
   "metadata": {},
   "source": [
    "## How to use"
   ]
  },
  {
   "cell_type": "markdown",
   "metadata": {},
   "source": [
    "In the book chapters, we should have a cell that fetches the latest version using pip:\n",
    "\n",
    "```bash\n",
    "    %pip install -q -U gtbook\n",
    "```\n",
    "\n",
    "The above automatically installs other libraries on colab, e.g., gtsam and plotly.\n",
    "\n",
    "You also needs a cell that imports what you need in a particular section, for example:\n",
    "\n",
    "```python\n",
    "    from gtbook.display import show\n",
    "    from gtbook.discrete import P, DiscretePrior, V\n",
    "```\n",
    "Further usage examples of these and more functions are given in the module documentation itself."
   ]
  },
  {
   "cell_type": "markdown",
   "metadata": {},
   "source": [
    "## Notes for development\n",
    "\n",
    "> Mostly for Frank as he adds to the library.\n",
    "\n",
    "- *Needs* `pip3 install -U nbdev`, not conda (has old version)\n",
    "- just do 'make' after changing any notebook.\n",
    "- `pip install -e .` for local install for test purposes.\n",
    "\n",
    "To release a new version:\n",
    "\n",
    "- nbdev_bump_version\n",
    "- make release"
   ]
  }
 ],
 "metadata": {
  "kernelspec": {
   "display_name": "Python 3",
   "language": "python",
   "name": "python3"
  }
 },
 "nbformat": 4,
 "nbformat_minor": 2
}
