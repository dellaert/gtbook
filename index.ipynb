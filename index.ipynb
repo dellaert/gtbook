{
 "cells": [
  {
   "cell_type": "raw",
   "metadata": {},
   "source": [
    "---\n",
    "description: An [nbdev](https://nbdev.fast.ai/) powered toolbox for Frank and Seth's\n",
    "  robotics book.\n",
    "output-file: index.html\n",
    "title: gtbook\n",
    "---\n",
    "\n"
   ]
  },
  {
   "cell_type": "markdown",
   "metadata": {},
   "source": [
    "The book can be found at https://www.roboticsbook.org and has the following chapters:\n",
    "\n",
    "- [Introduction](https://www.roboticsbook.org/intro.html)\n",
    "- [A Trash Sorting Robot](https://www.roboticsbook.org/S20_sorter_intro.html) (`discrete`)\n",
    "- [A Robot Vacuum Cleaner](https://www.roboticsbook.org/S30_vacuum_intro.html) (`vacuum`)\n",
    "- [Warehouse Robots in 2D](https://www.roboticsbook.org/S40_logistics_intro.html) (`logistics`)\n",
    "- [A Mobile Robot with Simple Kinematics](https://www.roboticsbook.org/S50_diffdrive_intro.html) (`diffdrive`)\n",
    "- [Autonomous Vehicles](https://www.roboticsbook.org/S60_driving_intro.html) (`driving`)\n",
    "- [Autonomous Drones in 3D](https://www.roboticsbook.org/S70_drone_intro.html) (`drone`)\n",
    "\n",
    "The structure of gtbook mirrors this organization, and then has a few more support modules for displaying graphs inside notebooks and for running the code in the book. The gtbook modules are listed above alongside the chapter."
   ]
  },
  {
   "cell_type": "code",
   "execution_count": null,
   "metadata": {},
   "outputs": [],
   "source": [
    "#| include: false\n",
    "from gtbook.display import show\n",
    "from gtbook.discrete import Variables"
   ]
  },
  {
   "cell_type": "markdown",
   "metadata": {},
   "source": [
    "## How to use"
   ]
  },
  {
   "cell_type": "markdown",
   "metadata": {},
   "source": [
    "In the book chapters, we should have a cell that fetches the latest version using pip:\n",
    "\n",
    "```bash\n",
    "%pip install -q -U gtbook\n",
    "```\n",
    "\n",
    "The above automatically installs other libraries on colab, e.g., gtsam and plotly.\n",
    "\n",
    "You also needs a cell that imports what you need in a particular section, for example:\n",
    "\n",
    "```python\n",
    "from gtbook.display import show\n",
    "from gtbook.discrete import Variables\n",
    "```\n",
    "Further usage examples of these and more functions are given in the module documentation itself.\n",
    "\n",
    "There are also some command line tools defined in the `cli` module."
   ]
  },
  {
   "cell_type": "markdown",
   "metadata": {},
   "source": [
    "## Notes for development\n",
    "\n",
    "> Mostly for Frank as he adds to the library.\n",
    "\n",
    "- I used `conda install -c fastai nbdev` for version 2 of nbdev. Previously needed `pip3 install -U nbdev` as conda had old version.\n",
    "- just do 'make' after changing any notebook.\n",
    "- `pip install -e .` for local install for test purposes."
   ]
  },
  {
   "cell_type": "markdown",
   "metadata": {},
   "source": [
    "To release a new version:\n",
    "\n",
    "- nbdev_bump_version\n",
    "- make release"
   ]
  }
 ],
 "metadata": {
  "kernelspec": {
   "display_name": "python3",
   "language": "python",
   "name": "python3"
  }
 },
 "nbformat": 4,
 "nbformat_minor": 2
}
