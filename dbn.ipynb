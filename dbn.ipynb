{
 "cells": [
  {
   "cell_type": "code",
   "execution_count": null,
   "metadata": {},
   "outputs": [],
   "source": [
    "# default_exp dbn\n"
   ]
  },
  {
   "cell_type": "code",
   "execution_count": null,
   "metadata": {},
   "outputs": [],
   "source": [
    "# hide\n",
    "from fastcore.all import *"
   ]
  },
  {
   "cell_type": "markdown",
   "metadata": {},
   "source": [
    "# Support code for Dynamic Bayes Nets\n",
    "\n",
    "Some specialized code for Dynamic Bayes Nets."
   ]
  },
  {
   "cell_type": "code",
   "execution_count": null,
   "metadata": {},
   "outputs": [],
   "source": [
    "# export\n",
    "import gtsam"
   ]
  },
  {
   "cell_type": "markdown",
   "metadata": {},
   "source": [
    "Create or amend a DotWriter to be use in show:"
   ]
  },
  {
   "cell_type": "code",
   "execution_count": null,
   "metadata": {},
   "outputs": [],
   "source": [
    "# export\n",
    "def dbn_writer(writer=None, hints: dict = None, positions: dict = None,\n",
    "               boxes: set = None, **kwargs):\n",
    "    \"\"\" Create a DotWriter depending on input arguments:\n",
    "        If writer is supplied, we will add but not overwrite hints or positions.\n",
    "    \"\"\"\n",
    "    if writer is None and hints is None and positions is None and boxes is None:\n",
    "        return None\n",
    "    writer = gtsam.DotWriter() if writer is None else writer\n",
    "    # Copy hints without overwriting\n",
    "    if hints is not None:\n",
    "        assert isinstance(hints, dict)\n",
    "        ph: dict = writer.positionHints\n",
    "        for key, y in hints.items():\n",
    "            if key not in ph:\n",
    "                ph[key] = y\n",
    "        writer.positionHints = ph\n",
    "    # Copy positions without overwriting\n",
    "    if positions is not None:\n",
    "        assert isinstance(positions, dict)\n",
    "        kp: dict = writer.variablePositions\n",
    "        for key, position in positions.items():\n",
    "            if key not in kp:\n",
    "                kp[key] = position\n",
    "        writer.variablePositions = kp\n",
    "    # Add boxes\n",
    "    if boxes is not None:\n",
    "        assert isinstance(boxes, set)\n",
    "        bx: set = writer.boxes\n",
    "        for key in boxes:\n",
    "            bx.add(key)\n",
    "        writer.boxes = bx\n",
    "    return writer\n",
    "\n",
    "\n",
    "def has_positions(writer):\n",
    "    \"\"\"Check if writer has positions for engine selection\"\"\"\n",
    "    if writer is None:\n",
    "        return False\n",
    "    return len(writer.positionHints) > 0 or len(writer.variablePositions) > 0\n"
   ]
  },
  {
   "cell_type": "code",
   "execution_count": null,
   "metadata": {},
   "outputs": [],
   "source": [
    "# Check None cases\n",
    "assert dbn_writer() is None\n",
    "assert dbn_writer(exact=True) is None\n",
    "\n",
    "# Check passthrough\n",
    "writer = gtsam.DotWriter()\n",
    "test_eq(dbn_writer(writer), writer)\n",
    "test_eq(has_positions(writer), False)\n",
    "\n",
    "# Check boxes, and that they don't stomp\n",
    "writer = dbn_writer(boxes={1, 2})\n",
    "test_eq(writer.boxes, {1, 2})\n",
    "writer = dbn_writer(writer, boxes={2, 3})\n",
    "test_eq(writer.boxes, {1, 2, 3})\n",
    "test_eq(has_positions(writer), False)\n",
    "\n",
    "# Check hints, and that they don't stomp\n",
    "writer = dbn_writer(hints={\"A\": 2})\n",
    "test_eq(writer.positionHints, {\"A\": 2})\n",
    "writer = dbn_writer(writer, hints={\"A\": 3})\n",
    "test_eq(writer.positionHints, {\"A\": 2})\n",
    "test_eq(has_positions(writer), True)\n",
    "\n",
    "# Check positions, and that they don't stomp\n",
    "key = 123\n",
    "writer = dbn_writer(positions={key: (2, 0)})\n",
    "test_eq(len(writer.variablePositions), 1)\n",
    "writer = dbn_writer(writer, positions={key: (3, 0)})\n",
    "test_eq(len(writer.variablePositions), 1)\n",
    "test_eq(writer.variablePositions[key], (2, 0))\n",
    "test_eq(has_positions(writer), True)\n",
    "\n"
   ]
  },
  {
   "cell_type": "code",
   "execution_count": null,
   "metadata": {},
   "outputs": [],
   "source": []
  }
 ],
 "metadata": {
  "kernelspec": {
   "display_name": "Python 3.9.7 64-bit ('base': conda)",
   "language": "python",
   "name": "python3"
  }
 },
 "nbformat": 4,
 "nbformat_minor": 2
}
