{
 "cells": [
  {
   "cell_type": "code",
   "execution_count": null,
   "metadata": {},
   "outputs": [],
   "source": [
    "# default_exp dbn\n"
   ]
  },
  {
   "cell_type": "code",
   "execution_count": null,
   "metadata": {},
   "outputs": [],
   "source": [
    "# hide\n",
    "from fastcore.all import *"
   ]
  },
  {
   "cell_type": "markdown",
   "metadata": {},
   "source": [
    "# Support code for Dynamic Bayes Nets\n",
    "\n",
    "Some specialized code for Dynamic Bayes Nets."
   ]
  },
  {
   "cell_type": "code",
   "execution_count": null,
   "metadata": {},
   "outputs": [],
   "source": [
    "# export\n",
    "import gtsam"
   ]
  },
  {
   "cell_type": "markdown",
   "metadata": {},
   "source": [
    "To show DBNs, we employ dirty tricks: we check whether the key is a `gtsam.Symbol` with character A/X/Z (or u/x/z for continuous) and then use the index to specify a position in the \"DBN grid\":"
   ]
  },
  {
   "cell_type": "code",
   "execution_count": null,
   "metadata": {},
   "outputs": [],
   "source": [
    "# export\n",
    "def dbs_position(symbol):\n",
    "    \"\"\"Calculate position of a DBN Symbol\"\"\"\n",
    "    chr, index  = symbol.chr(), symbol.index()\n",
    "    if chr==ord('A') or chr==ord('u'): return (index,2)\n",
    "    if chr==ord('X') or chr==ord('x'): return (index,1)\n",
    "    if chr==ord('Z') or chr==ord('z'): return (index,0)\n",
    "    if chr==ord('B'): return (index,0) # for battery example\n",
    "\n",
    "def dbk_position(key):\n",
    "    \"\"\"Calculate position of a DBN Key \"\"\"\n",
    "    return dbs_position(gtsam.Symbol(key))"
   ]
  },
  {
   "cell_type": "code",
   "execution_count": null,
   "metadata": {},
   "outputs": [],
   "source": [
    "test_eq(dbs_position(gtsam.Symbol('A', 9)), (9,2))\n",
    "test_eq(dbs_position(gtsam.Symbol('X', 7)), (7,1))\n",
    "test_eq(dbs_position(gtsam.Symbol('B', 2)), (2,0))\n",
    "test_eq(dbs_position(gtsam.Symbol('Z', 2)), (2,0))\n",
    "U = gtsam.symbol_shorthand.U\n",
    "X = gtsam.symbol_shorthand.X\n",
    "Z = gtsam.symbol_shorthand.Z\n",
    "test_eq(dbk_position(U(9)), (9,2))\n",
    "test_eq(dbk_position(X(7)), (7,1))\n",
    "test_eq(dbk_position(Z(2)), (2,0))"
   ]
  },
  {
   "cell_type": "markdown",
   "metadata": {},
   "source": [
    "Code below uses this for (any) conditional:"
   ]
  },
  {
   "cell_type": "code",
   "execution_count": null,
   "metadata": {},
   "outputs": [],
   "source": [
    "# export\n",
    "def dbc_position(conditional):\n",
    "    \"\"\"Return (key,position) for a Conditional with a DBN key\"\"\"\n",
    "    key = conditional.firstFrontalKey()\n",
    "    return key, dbk_position(key)"
   ]
  },
  {
   "cell_type": "code",
   "execution_count": null,
   "metadata": {},
   "outputs": [],
   "source": [
    "key = U(9)\n",
    "conditional = gtsam.DiscreteDistribution((key,2), \"1/1\")\n",
    "expected  = key, (9,2)\n",
    "test_eq(dbc_position(conditional), expected)"
   ]
  },
  {
   "cell_type": "markdown",
   "metadata": {},
   "source": [
    "And (any) BayesNet derived class:"
   ]
  },
  {
   "cell_type": "code",
   "execution_count": null,
   "metadata": {},
   "outputs": [],
   "source": [
    "# export\n",
    "def dbn_positions(bayesNet):\n",
    "    \"\"\"Calculate positions for a DBN as a {key:position} dictionary\"\"\"\n",
    "    positions = [dbc_position(bayesNet.at(j)) for j in range(bayesNet.size())]\n",
    "    return dict(pair for pair in positions if pair[1] is not None)"
   ]
  },
  {
   "cell_type": "code",
   "execution_count": null,
   "metadata": {},
   "outputs": [],
   "source": [
    "dbn = gtsam.DiscreteBayesNet()\n",
    "u1 = U(1),2\n",
    "x4 = X(1),2\n",
    "dbn.add(u1, [], \"1/1\")\n",
    "dbn.add(x4, [u1], \"1/1 1/2\")\n",
    "test_eq(dbn_positions(dbn), {U(1): (1, 2), X(1): (1, 1)})"
   ]
  },
  {
   "cell_type": "markdown",
   "metadata": {},
   "source": [
    "If a Bayes net does *not* contain these keys, we get an empty dictionary:"
   ]
  },
  {
   "cell_type": "code",
   "execution_count": null,
   "metadata": {},
   "outputs": [],
   "source": [
    "non_dbn = gtsam.DiscreteBayesNet()\n",
    "discreteKey = 123,2\n",
    "non_dbn.add(discreteKey, [], \"1/1\")\n",
    "test_eq(dbn_positions(non_dbn), {})"
   ]
  },
  {
   "cell_type": "markdown",
   "metadata": {},
   "source": [
    "Finally, either create or amend a DotWriter to be use in show:"
   ]
  },
  {
   "cell_type": "code",
   "execution_count": null,
   "metadata": {},
   "outputs": [],
   "source": [
    "# export\n",
    "def dbn_writer(obj, **kwargs):\n",
    "    \"\"\"Create a DotWriter with variable positions for showing DBNs\"\"\"\n",
    "    writer_or_none = kwargs[\"writer\"] if \"writer\" in kwargs else None\n",
    "    if not isinstance(obj, gtsam.DiscreteBayesNet): return writer_or_none\n",
    "    positions = dbn_positions(obj)\n",
    "    if positions=={}: return writer_or_none\n",
    "    # OK, we have a DBN, so add variablePositions to writer\n",
    "    writer = gtsam.DotWriter() if writer_or_none is None else writer_or_none\n",
    "    vp = writer.variablePositions\n",
    "    for key, position in positions.items():\n",
    "        # only overwrite if not given already:\n",
    "        if key not in vp: vp[key] = position\n",
    "    writer.variablePositions = vp\n",
    "    return writer"
   ]
  },
  {
   "cell_type": "code",
   "execution_count": null,
   "metadata": {},
   "outputs": [],
   "source": [
    "# non DBN:\n",
    "test_is(dbn_writer(non_dbn), None)\n",
    "writer = gtsam.DotWriter()\n",
    "test_eq(dbn_writer(non_dbn, writer=writer), writer)\n",
    "\n",
    "# DBN\n",
    "test_eq(len(dbn_writer(dbn).variablePositions), 2)\n",
    "test_eq(len(dbn_writer(dbn, writer=writer).variablePositions), 2)\n"
   ]
  }
 ],
 "metadata": {
  "kernelspec": {
   "display_name": "Python 3.9.7 64-bit ('base': conda)",
   "language": "python",
   "name": "python3"
  }
 },
 "nbformat": 4,
 "nbformat_minor": 2
}
