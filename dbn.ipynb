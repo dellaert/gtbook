{
 "cells": [
  {
   "cell_type": "raw",
   "metadata": {},
   "source": [
    "---\n",
    "output-file: dbn.html\n",
    "title: Support code for Dynamic Bayes Nets\n",
    "\n",
    "---\n",
    "\n"
   ]
  },
  {
   "cell_type": "code",
   "execution_count": 3,
   "metadata": {},
   "outputs": [],
   "source": [
    "#| default_exp dbn"
   ]
  },
  {
   "cell_type": "code",
   "execution_count": 4,
   "metadata": {},
   "outputs": [],
   "source": [
    "#| include: false\n",
    "from fastcore.all import *"
   ]
  },
  {
   "cell_type": "code",
   "execution_count": 5,
   "metadata": {},
   "outputs": [],
   "source": [
    "#| export\n",
    "import gtsam"
   ]
  },
  {
   "cell_type": "markdown",
   "metadata": {},
   "source": [
    "Create or amend a DotWriter to be use in show:"
   ]
  },
  {
   "cell_type": "code",
   "execution_count": 10,
   "metadata": {},
   "outputs": [],
   "source": [
    "#| export\n",
    "from gtsam import GraphvizFormatting\n",
    "Axis = GraphvizFormatting.Axis\n",
    "\n",
    "def dbn_writer(writer=None, hints: dict = None, positions: dict = None,\n",
    "               boxes: set = None, factor_positions: dict = None,\n",
    "               binary_edges=False, **kwargs):\n",
    "    \"\"\" Create a DotWriter depending on input arguments:\n",
    "        If writer is supplied, we will add but not overwrite hints or positions.\n",
    "    \"\"\"\n",
    "    if writer is None and hints is None and positions is None and boxes is None and factor_positions is None and binary_edges==False:\n",
    "        return None\n",
    "    writer = GraphvizFormatting() if writer is None else writer\n",
    "\n",
    "    writer.paperHorizontalAxis = Axis.X\n",
    "    writer.paperVerticalAxis = Axis.Y\n",
    "\n",
    "    # Copy hints without overwriting\n",
    "    if hints is not None:\n",
    "        assert isinstance(hints, dict)\n",
    "        ph: dict = writer.positionHints\n",
    "        for key, y in hints.items():\n",
    "            if key not in ph:\n",
    "                ph[key] = y\n",
    "        writer.positionHints = ph\n",
    "    # Copy positions without overwriting\n",
    "    if positions is not None:\n",
    "        assert isinstance(positions, dict)\n",
    "        kp: dict = writer.variablePositions\n",
    "        for key, position in positions.items():\n",
    "            if key not in kp:\n",
    "                kp[key] = position\n",
    "        writer.variablePositions = kp\n",
    "    # Add boxes\n",
    "    if boxes is not None:\n",
    "        assert isinstance(boxes, set)\n",
    "        bx: set = writer.boxes\n",
    "        for key in boxes:\n",
    "            bx.add(key)\n",
    "        writer.boxes = bx\n",
    "    # Copy factor positions without overwriting\n",
    "    if factor_positions is not None:\n",
    "        assert isinstance(factor_positions, dict)\n",
    "        kp: dict = writer.factorPositions\n",
    "        for i, position in factor_positions.items():\n",
    "            if i not in kp:\n",
    "                kp[i] = position\n",
    "        writer.factorPositions = kp\n",
    "    writer.binaryEdges = binary_edges\n",
    "    return writer\n",
    "\n",
    "\n",
    "def has_positions(writer):\n",
    "    \"\"\"Check if writer has positions for engine selection\"\"\"\n",
    "    if writer is None:\n",
    "        return False\n",
    "    return len(writer.positionHints) > 0 or len(writer.variablePositions) > 0 or len(writer.factorPositions) > 0"
   ]
  },
  {
   "cell_type": "code",
   "execution_count": 11,
   "metadata": {},
   "outputs": [],
   "source": [
    "# Check None cases\n",
    "assert dbn_writer() is None\n",
    "assert dbn_writer(exact=True) is None\n",
    "\n",
    "# Check passthrough\n",
    "writer = GraphvizFormatting()\n",
    "test_eq(dbn_writer(writer), writer)\n",
    "test_eq(has_positions(writer), False)\n",
    "\n",
    "# Check boxes, and that they don't stomp\n",
    "writer = dbn_writer(boxes={1, 2})\n",
    "test_eq(writer.boxes, {1, 2})\n",
    "writer = dbn_writer(writer, boxes={2, 3})\n",
    "test_eq(writer.boxes, {1, 2, 3})\n",
    "test_eq(has_positions(writer), False)\n",
    "\n",
    "# Check hints, and that they don't stomp\n",
    "writer = dbn_writer(hints={\"A\": 2})\n",
    "test_eq(writer.positionHints, {\"A\": 2})\n",
    "writer = dbn_writer(writer, hints={\"A\": 3})\n",
    "test_eq(writer.positionHints, {\"A\": 2})\n",
    "test_eq(has_positions(writer), True)\n",
    "\n",
    "# Check positions, and that they don't stomp\n",
    "key = 123\n",
    "writer = dbn_writer(positions={key: (2, 0)})\n",
    "test_eq(len(writer.variablePositions), 1)\n",
    "writer = dbn_writer(writer, positions={key: (3, 0)})\n",
    "test_eq(len(writer.variablePositions), 1)\n",
    "test_eq(writer.variablePositions[key], (2, 0))\n",
    "test_eq(has_positions(writer), True)\n",
    "\n",
    "# Check factor positions, and that they don't stomp\n",
    "i = 0\n",
    "writer = dbn_writer(factor_positions={i: (2, 0)})\n",
    "test_eq(len(writer.factorPositions), 1)\n",
    "writer = dbn_writer(writer, factor_positions={i: (3, 0)})\n",
    "test_eq(len(writer.factorPositions), 1)\n",
    "test_eq(writer.factorPositions[i], (2, 0))\n",
    "test_eq(has_positions(writer), True)"
   ]
  },
  {
   "cell_type": "code",
   "execution_count": null,
   "metadata": {},
   "outputs": [],
   "source": []
  }
 ],
 "metadata": {
  "kernelspec": {
   "display_name": "py310",
   "language": "python",
   "name": "python3"
  },
  "language_info": {
   "codemirror_mode": {
    "name": "ipython",
    "version": 3
   },
   "file_extension": ".py",
   "mimetype": "text/x-python",
   "name": "python",
   "nbconvert_exporter": "python",
   "pygments_lexer": "ipython3",
   "version": "3.10.6 | packaged by conda-forge | (main, Aug 22 2022, 20:38:29) [Clang 13.0.1 ]"
  },
  "vscode": {
   "interpreter": {
    "hash": "24fcac88e5fd80793bfd61a3962c98c7dc2b082e39af151ec422ff95fcf0f42c"
   }
  }
 },
 "nbformat": 4,
 "nbformat_minor": 2
}
