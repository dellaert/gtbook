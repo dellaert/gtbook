{
 "cells": [
  {
   "cell_type": "raw",
   "metadata": {},
   "source": [
    "---\n",
    "output-file: html.html\n",
    "title: Some HTML Utilities\n",
    "\n",
    "---\n",
    "\n"
   ]
  },
  {
   "cell_type": "code",
   "execution_count": null,
   "metadata": {},
   "outputs": [],
   "source": [
    "#| default_exp html"
   ]
  },
  {
   "cell_type": "code",
   "execution_count": null,
   "metadata": {},
   "outputs": [],
   "source": [
    "#| include: false\n",
    "from fastcore.all import *"
   ]
  },
  {
   "cell_type": "code",
   "execution_count": null,
   "metadata": {},
   "outputs": [],
   "source": [
    "#| export\n",
    "from IPython.display import HTML"
   ]
  },
  {
   "cell_type": "code",
   "execution_count": null,
   "metadata": {},
   "outputs": [],
   "source": [
    "#| export\n",
    "def td(obj):\n",
    "    \"\"\"Create a table entry from string or object with html representation.\"\"\"\n",
    "    if hasattr(obj, '_repr_html_'):\n",
    "        return f'<td style=\"text-align:left;\">{obj._repr_html_()}</td>'\n",
    "    elif hasattr(obj, '_repr_image_svg_xml'):\n",
    "        return f'<td style=\"text-align:left;\">{obj._repr_image_svg_xml()}</td>'\n",
    "    else:\n",
    "        return f'<td style=\"text-align:left;\">{obj}</td>' # uses __str__"
   ]
  },
  {
   "cell_type": "markdown",
   "metadata": {},
   "source": [
    "If an object is not a string, try to use its `_repr_html_` method:"
   ]
  },
  {
   "cell_type": "code",
   "execution_count": null,
   "metadata": {},
   "outputs": [],
   "source": [
    "test_eq(td(\"abc\"), '<td style=\"text-align:left;\">abc</td>')\n",
    "\n",
    "class MyClass:\n",
    "    def _repr_html_(self): return \"<span>blah</span>\"\n",
    "test_eq(td(MyClass()), '<td style=\"text-align:left;\"><span>blah</span></td>')"
   ]
  },
  {
   "cell_type": "code",
   "execution_count": null,
   "metadata": {},
   "outputs": [],
   "source": [
    "#| export\n",
    "def tr(cells):\n",
    "    \"\"\"Create a table row\"\"\"\n",
    "    tds = [td(cell) for cell in cells]\n",
    "    return \"<tr>\\n\" + \"\\n\".join(tds) + \"\\n</tr>\"\n",
    "\n",
    "\n",
    "def th(cells):\n",
    "    \"\"\"Create a table header\"\"\"\n",
    "    return tr(cells).replace(\"<td \", \"<th \").replace(\"</td>\", \"</th>\")"
   ]
  },
  {
   "cell_type": "code",
   "execution_count": null,
   "metadata": {},
   "outputs": [],
   "source": [
    "#| export\n",
    "def table(rows, header=\"\", cls: str = \"gtbook_table\"):\n",
    "    \"\"\"Create a table from rows\"\"\"\n",
    "    return \"<table width=\\\"100%\\\" class={cls}>\\n\" + header + \"\\n\" + \"\\n\".join(rows) + \"</table>\\n\"\n",
    "\n",
    "def row(cells):\n",
    "    \"\"\"Create a table with a single row\"\"\"\n",
    "    return table([tr(cells)])\n",
    "\n",
    "def ROW(cells): return HTML(row(cells))"
   ]
  },
  {
   "cell_type": "markdown",
   "metadata": {},
   "source": [
    "Create a table row"
   ]
  },
  {
   "cell_type": "code",
   "execution_count": null,
   "metadata": {},
   "outputs": [],
   "source": [
    "test_eq(tr([\"a\", \"b\"]),'<tr>\\n<td style=\"text-align:left;\">a</td>\\n<td style=\"text-align:left;\">b</td>\\n</tr>')"
   ]
  },
  {
   "cell_type": "code",
   "execution_count": null,
   "metadata": {},
   "outputs": [
    {
     "data": {
      "text/html": [
       "<table width=\"100%\" class={cls}>\n",
       "<tr>\n",
       "<th style=\"text-align:left;\">1</th>\n",
       "<th style=\"text-align:left;\">2</th>\n",
       "</tr>\n",
       "<tr>\n",
       "<td style=\"text-align:left;\">a</td>\n",
       "<td style=\"text-align:left;\">b</td>\n",
       "</tr>\n",
       "<tr>\n",
       "<td style=\"text-align:left;\">c</td>\n",
       "<td style=\"text-align:left;\">d</td>\n",
       "</tr></table>\n"
      ],
      "text/plain": [
       "<IPython.core.display.HTML object>"
      ]
     },
     "execution_count": null,
     "metadata": {},
     "output_type": "execute_result"
    }
   ],
   "source": [
    "from IPython.display import HTML\n",
    "HTML(table([tr([\"a\", \"b\"]), tr([\"c\", \"d\"])], header=th([\"1\", \"2\"])))"
   ]
  },
  {
   "cell_type": "code",
   "execution_count": null,
   "metadata": {},
   "outputs": [
    {
     "data": {
      "text/html": [
       "<table width=\"100%\" class={cls}>\n",
       "\n",
       "<tr>\n",
       "<td style=\"text-align:left;\">a</td>\n",
       "<td style=\"text-align:left;\">b</td>\n",
       "</tr>\n",
       "<tr>\n",
       "<td style=\"text-align:left;\">a</td>\n",
       "<td style=\"text-align:left;\">b</td>\n",
       "</tr>\n",
       "<tr>\n",
       "<td style=\"text-align:left;\">a</td>\n",
       "<td style=\"text-align:left;\">b</td>\n",
       "</tr>\n",
       "<tr>\n",
       "<td style=\"text-align:left;\">a</td>\n",
       "<td style=\"text-align:left;\">b</td>\n",
       "</tr></table>\n"
      ],
      "text/plain": [
       "<IPython.core.display.HTML object>"
      ]
     },
     "execution_count": null,
     "metadata": {},
     "output_type": "execute_result"
    }
   ],
   "source": [
    "HTML(table([tr([\"a\", \"b\"]) for j in range(4)]))"
   ]
  },
  {
   "cell_type": "code",
   "execution_count": null,
   "metadata": {},
   "outputs": [
    {
     "data": {
      "text/html": [
       "<table width=\"100%\" class={cls}>\n",
       "\n",
       "<tr>\n",
       "<td style=\"text-align:left;\"><div>\n",
       "<p>  <i>P(0):</i></p>\n",
       "<div>\n",
       "<table class='DecisionTreeFactor'>\n",
       "  <thead>\n",
       "    <tr><th>0</th><th>value</th></tr>\n",
       "  </thead>\n",
       "  <tbody>\n",
       "    <tr><th>0</th><td>0.75</td></tr>\n",
       "    <tr><th>1</th><td>0.25</td></tr>\n",
       "  </tbody>\n",
       "</table>\n",
       "</div></td>\n",
       "<td style=\"text-align:left;\"><div>\n",
       "<p>  <i>P(0):</i></p>\n",
       "<div>\n",
       "<table class='DecisionTreeFactor'>\n",
       "  <thead>\n",
       "    <tr><th>0</th><th>value</th></tr>\n",
       "  </thead>\n",
       "  <tbody>\n",
       "    <tr><th>0</th><td>0.75</td></tr>\n",
       "    <tr><th>1</th><td>0.25</td></tr>\n",
       "  </tbody>\n",
       "</table>\n",
       "</div></td>\n",
       "</tr></table>\n"
      ],
      "text/plain": [
       "<IPython.core.display.HTML object>"
      ]
     },
     "execution_count": null,
     "metadata": {},
     "output_type": "execute_result"
    }
   ],
   "source": [
    "import gtsam\n",
    "prior = gtsam.DiscreteDistribution((0,2),\"3/1\")\n",
    "HTML(row([prior, prior]))"
   ]
  },
  {
   "cell_type": "code",
   "execution_count": null,
   "metadata": {},
   "outputs": [
    {
     "ename": "ModuleNotFoundError",
     "evalue": "No module named 'graphviz'",
     "output_type": "error",
     "traceback": [
      "\u001b[0;31m---------------------------------------------------------------------------\u001b[0m",
      "\u001b[0;31mModuleNotFoundError\u001b[0m                       Traceback (most recent call last)",
      "Cell \u001b[0;32mIn[12], line 1\u001b[0m\n\u001b[0;32m----> 1\u001b[0m \u001b[39mfrom\u001b[39;00m \u001b[39mgtbook\u001b[39;00m\u001b[39m.\u001b[39;00m\u001b[39mdisplay\u001b[39;00m \u001b[39mimport\u001b[39;00m show\n\u001b[1;32m      2\u001b[0m ROW([prior, show(prior)])\n",
      "File \u001b[0;32m~/git/gtbook/gtbook/display.py:8\u001b[0m\n\u001b[1;32m      6\u001b[0m \u001b[39mimport\u001b[39;00m \u001b[39mmath\u001b[39;00m\n\u001b[1;32m      7\u001b[0m \u001b[39mimport\u001b[39;00m \u001b[39mgtsam\u001b[39;00m\n\u001b[0;32m----> 8\u001b[0m \u001b[39mimport\u001b[39;00m \u001b[39mgraphviz\u001b[39;00m\n\u001b[1;32m      9\u001b[0m \u001b[39mfrom\u001b[39;00m \u001b[39m.\u001b[39;00m\u001b[39mdiscrete\u001b[39;00m \u001b[39mimport\u001b[39;00m Variables\n\u001b[1;32m     10\u001b[0m \u001b[39mfrom\u001b[39;00m \u001b[39m.\u001b[39;00m\u001b[39mdbn\u001b[39;00m \u001b[39mimport\u001b[39;00m dbn_writer, has_positions\n",
      "\u001b[0;31mModuleNotFoundError\u001b[0m: No module named 'graphviz'"
     ]
    }
   ],
   "source": [
    "from gtbook.display import show\n",
    "ROW([prior, show(prior)])"
   ]
  },
  {
   "cell_type": "code",
   "execution_count": null,
   "metadata": {},
   "outputs": [],
   "source": []
  }
 ],
 "metadata": {
  "kernelspec": {
   "display_name": "nbdev",
   "language": "python",
   "name": "python3"
  }
 },
 "nbformat": 4,
 "nbformat_minor": 2
}
