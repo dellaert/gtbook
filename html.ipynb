{
 "cells": [
  {
   "cell_type": "raw",
   "metadata": {},
   "source": [
    "---\n",
    "output-file: html.html\n",
    "description: Some HTML Utilities\n",
    "title: html\n",
    "---"
   ]
  },
  {
   "cell_type": "code",
   "execution_count": null,
   "metadata": {},
   "outputs": [],
   "source": [
    "#| default_exp html"
   ]
  },
  {
   "cell_type": "code",
   "execution_count": null,
   "metadata": {},
   "outputs": [],
   "source": [
    "#| include: false\n",
    "from fastcore.all import *"
   ]
  },
  {
   "cell_type": "code",
   "execution_count": null,
   "metadata": {},
   "outputs": [],
   "source": [
    "#| export\n",
    "from IPython.display import HTML"
   ]
  },
  {
   "cell_type": "code",
   "execution_count": null,
   "metadata": {},
   "outputs": [],
   "source": [
    "#| export\n",
    "def td(obj):\n",
    "    \"\"\"Create a table entry from string or object with html representation.\"\"\"\n",
    "    if hasattr(obj, '_repr_html_'):\n",
    "        return f'<td style=\"text-align:left;\">{obj._repr_html_()}</td>'\n",
    "    elif hasattr(obj, '_repr_image_svg_xml'):\n",
    "        return f'<td style=\"text-align:left;\">{obj._repr_image_svg_xml()}</td>'\n",
    "    else:\n",
    "        return f'<td style=\"text-align:left;\">{obj}</td>' # uses __str__"
   ]
  },
  {
   "cell_type": "markdown",
   "metadata": {},
   "source": [
    "If an object is not a string, try to use its `_repr_html_` method:"
   ]
  },
  {
   "cell_type": "code",
   "execution_count": null,
   "metadata": {},
   "outputs": [],
   "source": [
    "test_eq(td(\"abc\"), '<td style=\"text-align:left;\">abc</td>')\n",
    "\n",
    "class MyClass:\n",
    "    def _repr_html_(self): return \"<span>blah</span>\"\n",
    "test_eq(td(MyClass()), '<td style=\"text-align:left;\"><span>blah</span></td>')"
   ]
  },
  {
   "cell_type": "code",
   "execution_count": null,
   "metadata": {},
   "outputs": [],
   "source": [
    "#| export\n",
    "def tr(cells):\n",
    "    \"\"\"Create a table row\"\"\"\n",
    "    tds = [td(cell) for cell in cells]\n",
    "    return \"<tr>\\n\" + \"\\n\".join(tds) + \"\\n</tr>\"\n",
    "\n",
    "\n",
    "def th(cells):\n",
    "    \"\"\"Create a table header\"\"\"\n",
    "    return tr(cells).replace(\"<td \", \"<th \").replace(\"</td>\", \"</th>\")"
   ]
  },
  {
   "cell_type": "code",
   "execution_count": null,
   "metadata": {},
   "outputs": [],
   "source": [
    "#| export\n",
    "def table(rows, header=\"\", cls: str = \"gtbook_table\"):\n",
    "    \"\"\"Create a table from rows\"\"\"\n",
    "    return \"<table width=\\\"100%\\\" class={cls}>\\n\" + header + \"\\n\" + \"\\n\".join(rows) + \"</table>\\n\"\n",
    "\n",
    "def row(cells):\n",
    "    \"\"\"Create a table with a single row\"\"\"\n",
    "    return table([tr(cells)])\n",
    "\n",
    "def ROW(cells): return HTML(row(cells))"
   ]
  },
  {
   "cell_type": "markdown",
   "metadata": {},
   "source": [
    "Create a table row"
   ]
  },
  {
   "cell_type": "code",
   "execution_count": null,
   "metadata": {},
   "outputs": [],
   "source": [
    "test_eq(tr([\"a\", \"b\"]),'<tr>\\n<td style=\"text-align:left;\">a</td>\\n<td style=\"text-align:left;\">b</td>\\n</tr>')"
   ]
  },
  {
   "cell_type": "code",
   "execution_count": null,
   "metadata": {},
   "outputs": [
    {
     "data": {
      "text/html": [
       "<table width=\"100%\" class={cls}>\n",
       "<tr>\n",
       "<th style=\"text-align:left;\">1</th>\n",
       "<th style=\"text-align:left;\">2</th>\n",
       "</tr>\n",
       "<tr>\n",
       "<td style=\"text-align:left;\">a</td>\n",
       "<td style=\"text-align:left;\">b</td>\n",
       "</tr>\n",
       "<tr>\n",
       "<td style=\"text-align:left;\">c</td>\n",
       "<td style=\"text-align:left;\">d</td>\n",
       "</tr></table>\n"
      ],
      "text/plain": [
       "<IPython.core.display.HTML object>"
      ]
     },
     "execution_count": null,
     "metadata": {},
     "output_type": "execute_result"
    }
   ],
   "source": [
    "from IPython.display import HTML"
   ]
  },
  {
   "cell_type": "code",
   "execution_count": null,
   "metadata": {},
   "outputs": [],
   "source": [
    "HTML(table([tr([\"a\", \"b\"]), tr([\"c\", \"d\"])], header=th([\"1\", \"2\"])))"
   ]
  },
  {
   "cell_type": "code",
   "execution_count": null,
   "metadata": {},
   "outputs": [
    {
     "data": {
      "text/html": [
       "<table width=\"100%\" class={cls}>\n",
       "\n",
       "<tr>\n",
       "<td style=\"text-align:left;\">a</td>\n",
       "<td style=\"text-align:left;\">b</td>\n",
       "</tr>\n",
       "<tr>\n",
       "<td style=\"text-align:left;\">a</td>\n",
       "<td style=\"text-align:left;\">b</td>\n",
       "</tr>\n",
       "<tr>\n",
       "<td style=\"text-align:left;\">a</td>\n",
       "<td style=\"text-align:left;\">b</td>\n",
       "</tr>\n",
       "<tr>\n",
       "<td style=\"text-align:left;\">a</td>\n",
       "<td style=\"text-align:left;\">b</td>\n",
       "</tr></table>\n"
      ],
      "text/plain": [
       "<IPython.core.display.HTML object>"
      ]
     },
     "execution_count": null,
     "metadata": {},
     "output_type": "execute_result"
    }
   ],
   "source": [
    "HTML(table([tr([\"a\", \"b\"]) for j in range(4)]))"
   ]
  },
  {
   "cell_type": "code",
   "execution_count": null,
   "metadata": {},
   "outputs": [],
   "source": [
    "import gtsam\n",
    "from gtbook.display import show"
   ]
  },
  {
   "cell_type": "code",
   "execution_count": null,
   "metadata": {},
   "outputs": [
    {
     "data": {
      "text/html": [
       "<table width=\"100%\" class={cls}>\n",
       "\n",
       "<tr>\n",
       "<td style=\"text-align:left;\"><div>\n",
       "<p>  <i>P(0):</i></p>\n",
       "<div>\n",
       "<table class='DecisionTreeFactor'>\n",
       "  <thead>\n",
       "    <tr><th>0</th><th>value</th></tr>\n",
       "  </thead>\n",
       "  <tbody>\n",
       "    <tr><th>0</th><td>0.75</td></tr>\n",
       "    <tr><th>1</th><td>0.25</td></tr>\n",
       "  </tbody>\n",
       "</table>\n",
       "</div></td>\n",
       "<td style=\"text-align:left;\"><div>\n",
       "<p>  <i>P(0):</i></p>\n",
       "<div>\n",
       "<table class='DecisionTreeFactor'>\n",
       "  <thead>\n",
       "    <tr><th>0</th><th>value</th></tr>\n",
       "  </thead>\n",
       "  <tbody>\n",
       "    <tr><th>0</th><td>0.75</td></tr>\n",
       "    <tr><th>1</th><td>0.25</td></tr>\n",
       "  </tbody>\n",
       "</table>\n",
       "</div></td>\n",
       "</tr></table>\n"
      ],
      "text/plain": [
       "<IPython.core.display.HTML object>"
      ]
     },
     "execution_count": null,
     "metadata": {},
     "output_type": "execute_result"
    }
   ],
   "source": [
    "prior = gtsam.DiscreteDistribution((0,2),\"3/1\")\n",
    "HTML(row([prior, prior]))"
   ]
  },
  {
   "cell_type": "code",
   "execution_count": null,
   "metadata": {},
   "outputs": [
    {
     "data": {
      "text/html": [
       "<table width=\"100%\" class={cls}>\n",
       "\n",
       "<tr>\n",
       "<td style=\"text-align:left;\"><div>\n",
       "<p>  <i>P(0):</i></p>\n",
       "<div>\n",
       "<table class='DecisionTreeFactor'>\n",
       "  <thead>\n",
       "    <tr><th>0</th><th>value</th></tr>\n",
       "  </thead>\n",
       "  <tbody>\n",
       "    <tr><th>0</th><td>0.75</td></tr>\n",
       "    <tr><th>1</th><td>0.25</td></tr>\n",
       "  </tbody>\n",
       "</table>\n",
       "</div></td>\n",
       "<td style=\"text-align:left;\"><?xml version=\"1.0\" encoding=\"UTF-8\" standalone=\"no\"?>\n",
       "<!DOCTYPE svg PUBLIC \"-//W3C//DTD SVG 1.1//EN\"\n",
       " \"http://www.w3.org/Graphics/SVG/1.1/DTD/svg11.dtd\">\n",
       "<!-- Generated by graphviz version 8.1.0 (0)\n",
       " -->\n",
       "<!-- Title: G Pages: 1 -->\n",
       "<svg width=\"134pt\" height=\"105pt\"\n",
       " viewBox=\"0.00 0.00 134.00 105.20\" xmlns=\"http://www.w3.org/2000/svg\" xmlns:xlink=\"http://www.w3.org/1999/xlink\">\n",
       "<g id=\"graph0\" class=\"graph\" transform=\"scale(1 1) rotate(0) translate(4 101.2)\">\n",
       "<title>G</title>\n",
       "<polygon fill=\"white\" stroke=\"none\" points=\"-4,4 -4,-101.2 130,-101.2 130,4 -4,4\"/>\n",
       "<!-- 0x106c1ce80 -->\n",
       "<g id=\"node1\" class=\"node\">\n",
       "<title>0x106c1ce80</title>\n",
       "<ellipse fill=\"none\" stroke=\"black\" cx=\"63\" cy=\"-79.2\" rx=\"18\" ry=\"18\"/>\n",
       "<text text-anchor=\"middle\" x=\"63\" y=\"-74.15\" font-family=\"Times,serif\" font-size=\"14.00\">0</text>\n",
       "</g>\n",
       "<!-- 0x106c15460 -->\n",
       "<g id=\"node2\" class=\"node\">\n",
       "<title>0x106c15460</title>\n",
       "<polygon fill=\"none\" stroke=\"black\" points=\"54,-25.2 0,-25.2 0,0 54,0 54,-25.2\"/>\n",
       "<text text-anchor=\"middle\" x=\"27\" y=\"-7.55\" font-family=\"Times,serif\" font-size=\"14.00\">0.75</text>\n",
       "</g>\n",
       "<!-- 0x106c1ce80&#45;&gt;0x106c15460 -->\n",
       "<g id=\"edge1\" class=\"edge\">\n",
       "<title>0x106c1ce80&#45;&gt;0x106c15460</title>\n",
       "<path fill=\"none\" stroke=\"black\" stroke-dasharray=\"5,2\" d=\"M54.47,-62.89C49.82,-54.54 43.98,-44.07 38.89,-34.94\"/>\n",
       "<polygon fill=\"black\" stroke=\"black\" points=\"41.48,-33.4 33.56,-26.37 35.37,-36.81 41.48,-33.4\"/>\n",
       "</g>\n",
       "<!-- 0x106c1bca0 -->\n",
       "<g id=\"node3\" class=\"node\">\n",
       "<title>0x106c1bca0</title>\n",
       "<polygon fill=\"none\" stroke=\"black\" points=\"126,-25.2 72,-25.2 72,0 126,0 126,-25.2\"/>\n",
       "<text text-anchor=\"middle\" x=\"99\" y=\"-7.55\" font-family=\"Times,serif\" font-size=\"14.00\">0.25</text>\n",
       "</g>\n",
       "<!-- 0x106c1ce80&#45;&gt;0x106c1bca0 -->\n",
       "<g id=\"edge2\" class=\"edge\">\n",
       "<title>0x106c1ce80&#45;&gt;0x106c1bca0</title>\n",
       "<path fill=\"none\" stroke=\"black\" d=\"M71.53,-62.89C76.18,-54.54 82.02,-44.07 87.11,-34.94\"/>\n",
       "<polygon fill=\"black\" stroke=\"black\" points=\"90.63,-36.81 92.44,-26.37 84.52,-33.4 90.63,-36.81\"/>\n",
       "</g>\n",
       "</g>\n",
       "</svg>\n",
       "</td>\n",
       "</tr></table>\n"
      ],
      "text/plain": [
       "<IPython.core.display.HTML object>"
      ]
     },
     "execution_count": null,
     "metadata": {},
     "output_type": "execute_result"
    }
   ],
   "source": [
    "ROW([prior, show(prior)])"
   ]
  },
  {
   "cell_type": "code",
   "execution_count": null,
   "metadata": {},
   "outputs": [],
   "source": []
  }
 ],
 "metadata": {
  "kernelspec": {
   "display_name": "python3",
   "language": "python",
   "name": "python3"
  }
 },
 "nbformat": 4,
 "nbformat_minor": 2
}
