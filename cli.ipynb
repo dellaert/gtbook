{
 "cells": [
  {
   "cell_type": "raw",
   "metadata": {},
   "source": [
    "---\n",
    "output-file: cli.html\n",
    "title: CLI tools\n",
    "\n",
    "---\n",
    "\n"
   ]
  },
  {
   "cell_type": "code",
   "execution_count": null,
   "metadata": {},
   "outputs": [],
   "source": [
    "#| default_exp cli"
   ]
  },
  {
   "cell_type": "code",
   "execution_count": null,
   "metadata": {},
   "outputs": [],
   "source": [
    "#| export\n",
    "from pathlib import Path\n",
    "from fastcore.script import call_parse\n",
    "import json\n",
    "import re\n",
    "import io"
   ]
  },
  {
   "cell_type": "markdown",
   "metadata": {},
   "source": [
    "A little script to correct chapter indices to base 1:\n"
   ]
  },
  {
   "cell_type": "code",
   "execution_count": null,
   "metadata": {},
   "outputs": [],
   "source": [
    "#| export\n",
    "@call_parse\n",
    "def rename(dir: str,  # dir in which to rename files\n",
    "           suffix: str = \".ipynb\"  # suffix of files to change\n",
    "           ):\n",
    "    \"\"\"Rename notebooks to base 1 for chapters.\"\"\"\n",
    "    path = Path(dir)\n",
    "    assert path.exists(), f\"dir '{dir}' not found\"\n",
    "    assert path.is_dir(), f\"'{dir}' is not a directory\"\n",
    "    print(\"Renaming notebooks now.\")\n",
    "    for ch in list(range(8, -1, -1)):\n",
    "        print(f\"Renaming chapter {ch}:\")\n",
    "        for x in path.glob(f\"S{ch}*{suffix}\"):\n",
    "            new_name = path / x.name.replace(f\"S{ch}\", f\"S{ch+1}\")\n",
    "            print(f\"Renaming {x} to {new_name}\")\n",
    "            x.rename(new_name)"
   ]
  },
  {
   "cell_type": "markdown",
   "metadata": {},
   "source": [
    "A function to read a notebook and fix its colab links:\n"
   ]
  },
  {
   "cell_type": "code",
   "execution_count": null,
   "metadata": {},
   "outputs": [],
   "source": [
    "#| export\n",
    "\n",
    "REGEX = re.compile(\n",
    "    '<a href=\"https://colab.research.google.com/github/gtbook/robotics/blob/main/(.+?)\\.ipynb\".*')\n",
    "\n",
    "\n",
    "def _colab_link_name(nb):\n",
    "    colab_link_source = nb['cells'][0]['source'][0]\n",
    "    result = re.search(REGEX, colab_link_source)\n",
    "    return result.group(1) if result is not None else None\n",
    "\n",
    "\n",
    "def fix_colab_links(nb: dict, name: str):\n",
    "    \"Fix colab links in `nb`\"\n",
    "\n",
    "    # Fix colab link\n",
    "    before = _colab_link_name(nb)\n",
    "    if before is not None:\n",
    "        colab_link_source = nb['cells'][0]['source'][0]\n",
    "        nb['cells'][0]['source'][0] = colab_link_source.replace(before, name)\n",
    "\n",
    "    # Fix colab metadata\n",
    "    if 'colab' in nb['metadata']:\n",
    "        nb['metadata']['colab']['name'] = name + '.ipynb'"
   ]
  },
  {
   "cell_type": "code",
   "execution_count": null,
   "metadata": {},
   "outputs": [
    {
     "ename": "AssertionError",
     "evalue": "",
     "output_type": "error",
     "traceback": [
      "\u001b[0;31m---------------------------------------------------------------------------\u001b[0m",
      "\u001b[0;31mAssertionError\u001b[0m                            Traceback (most recent call last)",
      "\u001b[0;32m/var/folders/j1/srk75rwh8xldbn006s6xkd8r0000gp/T/ipykernel_70403/1858130178.py\u001b[0m in \u001b[0;36m<module>\u001b[0;34m\u001b[0m\n\u001b[1;32m      5\u001b[0m \u001b[0mfix_colab_links\u001b[0m\u001b[0;34m(\u001b[0m\u001b[0mnb\u001b[0m\u001b[0;34m,\u001b[0m \u001b[0;34m'nb_with_colab_link'\u001b[0m\u001b[0;34m)\u001b[0m\u001b[0;34m\u001b[0m\u001b[0;34m\u001b[0m\u001b[0m\n\u001b[1;32m      6\u001b[0m \u001b[0;34m\u001b[0m\u001b[0m\n\u001b[0;32m----> 7\u001b[0;31m \u001b[0;32massert\u001b[0m \u001b[0m_colab_link_name\u001b[0m\u001b[0;34m(\u001b[0m\u001b[0mnb\u001b[0m\u001b[0;34m)\u001b[0m \u001b[0;34m==\u001b[0m \u001b[0mname\u001b[0m\u001b[0;34m\u001b[0m\u001b[0;34m\u001b[0m\u001b[0m\n\u001b[0m\u001b[1;32m      8\u001b[0m \u001b[0;32massert\u001b[0m \u001b[0mnb\u001b[0m\u001b[0;34m[\u001b[0m\u001b[0;34m'metadata'\u001b[0m\u001b[0;34m]\u001b[0m\u001b[0;34m[\u001b[0m\u001b[0;34m'colab'\u001b[0m\u001b[0;34m]\u001b[0m\u001b[0;34m[\u001b[0m\u001b[0;34m'name'\u001b[0m\u001b[0;34m]\u001b[0m \u001b[0;34m==\u001b[0m \u001b[0mname\u001b[0m \u001b[0;34m+\u001b[0m \u001b[0;34m'.ipynb'\u001b[0m\u001b[0;34m\u001b[0m\u001b[0;34m\u001b[0m\u001b[0m\n",
      "\u001b[0;31mAssertionError\u001b[0m: "
     ]
    }
   ],
   "source": [
    "# Let's read a notebook in the test folder\n",
    "name = 'nb_with_colab_link'\n",
    "nb = json.loads(open(f'test/{name}.ipynb', 'r', encoding='utf-8').read())\n",
    "\n",
    "fix_colab_links(nb, 'nb_with_colab_link')\n",
    "\n",
    "assert _colab_link_name(nb) == name\n",
    "assert nb['metadata']['colab']['name'] == name + '.ipynb'"
   ]
  },
  {
   "cell_type": "markdown",
   "metadata": {},
   "source": [
    "A script to do this for all the notebooks\n"
   ]
  },
  {
   "cell_type": "code",
   "execution_count": null,
   "metadata": {},
   "outputs": [],
   "source": [
    "#| export\n",
    "@call_parse\n",
    "def fix_nbs_colab_links(dir: str,  # dir in which to rename files\n",
    "                        ):\n",
    "    \"\"\"Fix colab links in all notebooks in directory.\"\"\"\n",
    "    path = Path(dir)\n",
    "    assert path.exists(), f\"dir '{dir}' not found\"\n",
    "    assert path.is_dir(), f\"'{dir}' is not a directory\"\n",
    "    print(\"Fixing notebooks now.\")\n",
    "    for x in path.glob(\"*.ipynb\"):\n",
    "        nb = json.loads(open(str(x), 'r', encoding='utf-8').read())\n",
    "        fix_colab_links(nb, str(x.stem))\n",
    "        all = json.dumps(nb, sort_keys=True, indent=1, ensure_ascii=False)\n",
    "        with io.open(x, 'w', encoding='utf-8') as f:\n",
    "            f.write(all)\n",
    "            f.write(\"\\n\")"
   ]
  },
  {
   "cell_type": "code",
   "execution_count": null,
   "metadata": {},
   "outputs": [],
   "source": []
  }
 ],
 "metadata": {
  "kernelspec": {
   "display_name": "nbdev",
   "language": "python",
   "name": "python3"
  }
 },
 "nbformat": 4,
 "nbformat_minor": 2
}
