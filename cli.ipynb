{
 "cells": [
  {
   "cell_type": "code",
   "execution_count": null,
   "metadata": {},
   "outputs": [],
   "source": [
    "# default_exp cli\n"
   ]
  },
  {
   "cell_type": "markdown",
   "metadata": {},
   "source": [
    "# CLI tools\n",
    "\n",
    "As explained in [nbdev docs](https://nbdev.fast.ai/tutorial.html#Set-up-console-scripts) and in [the @call_parse docs](https://fastcore.fast.ai/script.html) we can have `nbdev` set up command line tools for us."
   ]
  },
  {
   "cell_type": "code",
   "execution_count": null,
   "metadata": {},
   "outputs": [],
   "source": [
    "#export\n",
    "from pathlib import Path\n",
    "from fastcore.script import call_parse"
   ]
  },
  {
   "cell_type": "code",
   "execution_count": null,
   "metadata": {},
   "outputs": [],
   "source": [
    "# export\n",
    "@call_parse\n",
    "def rename(dir: str,  # dir in which to rename files\n",
    "           suffix: str = \".ipynb\"  # suffix of files to change\n",
    "           ):\n",
    "    \"\"\"Rename notebooks to base 1 for chapters.\"\"\"\n",
    "    path = Path(dir)\n",
    "    assert path.exists(), f\"dir '{dir}' not found\"\n",
    "    assert path.is_dir(), f\"'{dir}' is not a directory\"\n",
    "    print(\"Renaming notebooks now.\")\n",
    "    for ch in list(range(8, -1, -1)):\n",
    "        print(f\"Renaming chapter {ch}:\")\n",
    "        for x in path.glob(f\"S{ch}*{suffix}\"):\n",
    "            new_name = path / x.name.replace(f\"S{ch}\", f\"S{ch+1}\")\n",
    "            print(f\"Renaming {x} to {new_name}\")\n",
    "            x.rename(new_name)\n"
   ]
  },
  {
   "cell_type": "code",
   "execution_count": null,
   "metadata": {},
   "outputs": [],
   "source": [
    "# export\n",
    "@call_parse\n",
    "def add_copyright():\n",
    "    \"\"\"Add copyright string to all specified files.\"\"\"\n",
    "    print(\"Addding copyright string.\")\n"
   ]
  },
  {
   "cell_type": "code",
   "execution_count": null,
   "metadata": {},
   "outputs": [],
   "source": []
  }
 ],
 "metadata": {
  "kernelspec": {
   "display_name": "Python 3.9.7 64-bit ('base': conda)",
   "language": "python",
   "name": "python3"
  }
 },
 "nbformat": 4,
 "nbformat_minor": 2
}
