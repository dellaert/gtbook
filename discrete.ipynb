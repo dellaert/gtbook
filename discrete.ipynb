{
 "cells": [
  {
   "cell_type": "code",
   "execution_count": null,
   "metadata": {},
   "outputs": [],
   "source": [
    "#default_exp discrete\n"
   ]
  },
  {
   "cell_type": "markdown",
   "metadata": {},
   "source": [
    "# Utilities for Discrete Inference\n",
    "\n",
    "This module provides utilities to work with discrete keys and the like for the first two chapters in the book.\n"
   ]
  },
  {
   "cell_type": "code",
   "execution_count": null,
   "metadata": {},
   "outputs": [],
   "source": [
    "#export\n",
    "import gtsam\n"
   ]
  },
  {
   "cell_type": "code",
   "execution_count": null,
   "metadata": {},
   "outputs": [],
   "source": [
    "#export\n",
    "def P(*args):\n",
    "    \"\"\" Create a DiscreteKeys instances from a variable number of DiscreteKey pairs.\n",
    "\n",
    "    It is currently very annoying to create a set of discrete keys. \n",
    "    This is probably because we don't understand pybind11 fully yet. \n",
    "\n",
    "    Discrete keys are represented as pairs in Python, with the first element the key and \n",
    "    the second element the cardinality of the discrete variable. This function accepts a\n",
    "    variable number of such pairs and creates a gtsam.DiscreteKeys instance.\n",
    "\n",
    "\n",
    "    Returns:\n",
    "        DiscreteKeys: an instance of DiscreteKeys.\n",
    "    \"\"\"\n",
    "    #TODO: We can make life easier by providing variable argument functions in C++ itself.\n",
    "    dks = gtsam.DiscreteKeys()\n",
    "    for key in args:\n",
    "        dks.push_back(key)\n",
    "    return dks"
   ]
  },
  {
   "cell_type": "code",
   "execution_count": 28,
   "metadata": {},
   "outputs": [
    {
     "name": "stdout",
     "output_type": "stream",
     "text": [
      "<class 'gtsam.gtsam.DiscreteKeys'>\n"
     ]
    }
   ],
   "source": [
    "# Example:\n",
    "parents = P((0, 4), (1, 3))\n",
    "print(type(parents))\n",
    "assert parents.size() == 2"
   ]
  },
  {
   "cell_type": "code",
   "execution_count": null,
   "metadata": {},
   "outputs": [],
   "source": [
    "#export\n",
    "def DiscretePrior(key: int, pmf: str):\n",
    "    \"\"\" A prior on a discrete variable.\n",
    "\n",
    "    This really just creates a gtsam.DiscreteConditional without parents.\n",
    "    \"\"\"\n",
    "    # TODO: add to GTSAM\n",
    "    return gtsam.DiscreteConditional(key, P(), pmf)\n"
   ]
  },
  {
   "cell_type": "code",
   "execution_count": null,
   "metadata": {},
   "outputs": [],
   "source": [
    "C = 0, 5  # A key is an identifier and a cardinality\n",
    "prior = DiscretePrior(C, \"25/20/30/20/5\")\n",
    "assert not prior.empty()\n"
   ]
  },
  {
   "cell_type": "code",
   "execution_count": null,
   "metadata": {},
   "outputs": [],
   "source": [
    "#export\n",
    "def V(values):\n",
    "    \"\"\"Convert a dictionary into a DiscreteValues instance.\n",
    "\n",
    "    Args:\n",
    "        values (dict): A map from keys to values.\n",
    "\n",
    "    Returns:\n",
    "        gtsam.DiscreteValues: an assignment to discrete variables usable by gtsam.\n",
    "    \"\"\"\n",
    "    # TODO: add variable argument operator that takes values in keys order.\n",
    "    # TODO: allow conversion from dictionary to DiscreteValues.\n",
    "    a = gtsam.DiscreteValues()\n",
    "    for key, value in values.items():\n",
    "        a[key] = value\n",
    "    return a\n"
   ]
  },
  {
   "cell_type": "code",
   "execution_count": null,
   "metadata": {},
   "outputs": [],
   "source": [
    "prior_probability_for_3 = prior(V({0:3}))\n",
    "assert prior_probability_for_3 == 0.2"
   ]
  }
 ],
 "metadata": {
  "kernelspec": {
   "display_name": "Python 3.9.7 64-bit ('base': conda)",
   "language": "python",
   "name": "python3"
  }
 },
 "nbformat": 4,
 "nbformat_minor": 2
}
