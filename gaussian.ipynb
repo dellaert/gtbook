{
 "cells": [
  {
   "cell_type": "code",
   "execution_count": null,
   "metadata": {},
   "outputs": [],
   "source": [
    "# default_exp gaussian"
   ]
  },
  {
   "cell_type": "code",
   "execution_count": null,
   "metadata": {},
   "outputs": [],
   "source": [
    "# hide\n",
    "from fastcore.all import *"
   ]
  },
  {
   "cell_type": "markdown",
   "metadata": {},
   "source": [
    "# Prototyping Samplers for GTSAM\n",
    "\n",
    "Fully general ancestral sampling was not yet implemented in GSTAM. This notebook adds some code that will be migrated to GTSAM as the interface stabilizes."
   ]
  },
  {
   "cell_type": "code",
   "execution_count": null,
   "metadata": {},
   "outputs": [],
   "source": [
    "#| exporti\n",
    "import gtsam\n",
    "import numpy as np\n",
    "import plotly.express as px\n",
    "import pandas as pd"
   ]
  },
  {
   "cell_type": "code",
   "execution_count": null,
   "metadata": {},
   "outputs": [],
   "source": [
    "#| export\n",
    "def sample_conditional(node: gtsam.GaussianConditional, N: int, parents: list = [], sample: dict = {}):\n",
    "    \"\"\"Sample from conditional \"\"\"\n",
    "    # every node ~ exp(0.5*|R x + S p - d|^2)\n",
    "    # calculate mean as inv(R)*(d - S p)\n",
    "    d = node.d()\n",
    "    n = len(d)\n",
    "    rhs = d.reshape(n, 1)\n",
    "    if len(parents) > 0:\n",
    "        rhs = rhs - node.S() @ np.vstack([sample[p] for p in parents])\n",
    "    # sample from conditional Gaussian\n",
    "    invR = np.linalg.inv(node.R())\n",
    "    return invR @ (rhs + np.random.normal(size=(n, N)))\n",
    "\n",
    "\n",
    "def sample_bayes_net(bn: gtsam.GaussianBayesNet, N: int) -> dict:\n",
    "    \"\"\" High performance ancestral sampling.\n",
    "        It returns a dictionary of nj x N samples, where n_j is the dimensionality for key j.\n",
    "    \"\"\"\n",
    "    sample = {}\n",
    "    for i in reversed(range(bn.size())):\n",
    "        conditional = bn.at(i)\n",
    "        key, *parents = conditional.keys()\n",
    "        sample[key] = sample_conditional(bn.at(i), N, parents, sample)\n",
    "    return sample"
   ]
  },
  {
   "cell_type": "code",
   "execution_count": null,
   "metadata": {},
   "outputs": [
    {
     "data": {
      "text/plain": [
       "{12: array([[2.83568484, 5.93936955, 3.94485894, 6.90187555]]),\n",
       " 11: array([[5.2819049 , 2.60654641, 4.86926211, 0.530073  ]])}"
      ]
     },
     "execution_count": null,
     "metadata": {},
     "output_type": "execute_result"
    }
   ],
   "source": [
    "_x_, _y_ = 11, 12\n",
    "bayesNet = gtsam.GaussianBayesNet()\n",
    "I_1x1 = np.eye(1, dtype=float)\n",
    "bayesNet.push_back(gtsam.GaussianConditional(_x_, [9.0], I_1x1, _y_, I_1x1))\n",
    "bayesNet.push_back(gtsam.GaussianConditional(_y_, [5.0], I_1x1))\n",
    "\n",
    "sample_bayes_net(bayesNet, 4)\n"
   ]
  }
 ],
 "metadata": {
  "kernelspec": {
   "display_name": "Python 3.9.7 64-bit ('base': conda)",
   "language": "python",
   "name": "python3"
  }
 },
 "nbformat": 4,
 "nbformat_minor": 2
}
