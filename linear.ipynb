{
 "cells": [
  {
   "cell_type": "code",
   "execution_count": null,
   "metadata": {},
   "outputs": [],
   "source": [
    "# default_exp linear\n"
   ]
  },
  {
   "cell_type": "markdown",
   "metadata": {},
   "source": [
    "# Utilities for Linear Inference\n",
    "\n",
    "This module provides utilities to work with GTSAM keys and `gtsam.VectorValues`.\n"
   ]
  },
  {
   "cell_type": "code",
   "execution_count": null,
   "metadata": {},
   "outputs": [],
   "source": [
    "# export\n",
    "import gtsam\n",
    "\n",
    "from typing import List, Tuple, Callable, Dict, Iterable\n"
   ]
  },
  {
   "cell_type": "code",
   "execution_count": null,
   "metadata": {},
   "outputs": [],
   "source": [
    "# hide\n",
    "from fastcore.all import *\n"
   ]
  },
  {
   "cell_type": "code",
   "execution_count": null,
   "metadata": {},
   "outputs": [],
   "source": [
    "# export\n",
    "import gtsam\n",
    "import numpy as np"
   ]
  },
  {
   "cell_type": "code",
   "execution_count": null,
   "metadata": {},
   "outputs": [],
   "source": [
    "# export\n",
    "def vv(keys_vectors):\n",
    "    \"\"\"Create a VectorValues from a dict\"\"\"\n",
    "    result = gtsam.VectorValues()\n",
    "    for j, v in keys_vectors.items():\n",
    "        result.insert(j, v)\n",
    "    return result"
   ]
  },
  {
   "cell_type": "code",
   "execution_count": null,
   "metadata": {},
   "outputs": [],
   "source": [
    "x = {k:gtsam.symbol('x',k) for k in [1,2,3]}\n",
    "vv66 = vv({x[1]: [66]})\n",
    "assert isinstance(vv66, gtsam.VectorValues)\n",
    "test_eq(vv66.size(),1)\n",
    "test_eq(vv66.at(x[1]),66)"
   ]
  },
  {
   "cell_type": "code",
   "execution_count": null,
   "metadata": {},
   "outputs": [],
   "source": [
    "vv34 = vv({x[1]:[3],x[2]:[4]})\n",
    "assert isinstance(vv34, gtsam.VectorValues)\n",
    "test_eq(vv34.size(),2)\n",
    "test_eq(vv34.at(x[1]),[3])\n",
    "test_eq(vv34.at(x[2]),[4])"
   ]
  },
  {
   "cell_type": "code",
   "execution_count": null,
   "metadata": {},
   "outputs": [],
   "source": []
  }
 ],
 "metadata": {
  "kernelspec": {
   "display_name": "Python 3.9.7 64-bit ('base': conda)",
   "language": "python",
   "name": "python3"
  }
 },
 "nbformat": 4,
 "nbformat_minor": 2
}
